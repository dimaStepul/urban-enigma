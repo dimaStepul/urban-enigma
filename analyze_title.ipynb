{
 "cells": [
  {
   "cell_type": "code",
   "execution_count": 168,
   "metadata": {
    "pycharm": {
     "name": "#%%\n"
    }
   },
   "outputs": [],
   "source": [
    "import pandas as pd\n",
    "\n",
    "data = pd.read_csv('title.csv')"
   ]
  },
  {
   "cell_type": "code",
   "execution_count": 169,
   "metadata": {
    "pycharm": {
     "name": "#%%\n"
    }
   },
   "outputs": [
    {
     "data": {
      "text/plain": "                                                   Title  \\\n0      \"documentRef\" is not a valid DocumentReference...   \n1      \"Error: Member not found\" with Flutter Firebas...   \n2      \"Invalid JSON\" in AWS S3 pipeline when trying ...   \n3      \"Read Data from Firebase\", not working after u...   \n4      \"SocketException: No buffer space available\" o...   \n...                                                  ...   \n11130            Yield slower than return in some cases?   \n11131  Yocto: have a dependency to a receipe and a PA...   \n11132  Your app contains an Implicit Internal Intent ...   \n11133  zsh completion: have the most recents files an...   \n11134                                 С.Creating threads   \n\n                                                    Tags  \\\n0         <javascript><firebase><google-cloud-firestore>   \n1      <firebase><flutter><google-cloud-firestore><fi...   \n2            <amazon-s3><bitbucket><bitbucket-pipelines>   \n3            <firebase><flutter><google-cloud-firestore>   \n4                  <spring><rest><jersey><jersey-client>   \n...                                                  ...   \n11130                  <python><function><return><yield>   \n11131                              <yocto><yocto-recipe>   \n11132  <java><android><android-intent><google-play-co...   \n11133      <sorting><zsh><iterm2><zshrc><zsh-completion>   \n11134   <c><multithreading><pthreads><qnx><qnx-neutrino>   \n\n                                                    Body  \n0                                                    NaN  \n1                                                    NaN  \n2                                                    NaN  \n3                                                    NaN  \n4                                                    NaN  \n...                                                  ...  \n11130                                                NaN  \n11131                                                NaN  \n11132  Looking for solution that work and bypasse thi...  \n11133                                                NaN  \n11134                                                NaN  \n\n[11135 rows x 3 columns]",
      "text/html": "<div>\n<style scoped>\n    .dataframe tbody tr th:only-of-type {\n        vertical-align: middle;\n    }\n\n    .dataframe tbody tr th {\n        vertical-align: top;\n    }\n\n    .dataframe thead th {\n        text-align: right;\n    }\n</style>\n<table border=\"1\" class=\"dataframe\">\n  <thead>\n    <tr style=\"text-align: right;\">\n      <th></th>\n      <th>Title</th>\n      <th>Tags</th>\n      <th>Body</th>\n    </tr>\n  </thead>\n  <tbody>\n    <tr>\n      <th>0</th>\n      <td>\"documentRef\" is not a valid DocumentReference...</td>\n      <td>&lt;javascript&gt;&lt;firebase&gt;&lt;google-cloud-firestore&gt;</td>\n      <td>NaN</td>\n    </tr>\n    <tr>\n      <th>1</th>\n      <td>\"Error: Member not found\" with Flutter Firebas...</td>\n      <td>&lt;firebase&gt;&lt;flutter&gt;&lt;google-cloud-firestore&gt;&lt;fi...</td>\n      <td>NaN</td>\n    </tr>\n    <tr>\n      <th>2</th>\n      <td>\"Invalid JSON\" in AWS S3 pipeline when trying ...</td>\n      <td>&lt;amazon-s3&gt;&lt;bitbucket&gt;&lt;bitbucket-pipelines&gt;</td>\n      <td>NaN</td>\n    </tr>\n    <tr>\n      <th>3</th>\n      <td>\"Read Data from Firebase\", not working after u...</td>\n      <td>&lt;firebase&gt;&lt;flutter&gt;&lt;google-cloud-firestore&gt;</td>\n      <td>NaN</td>\n    </tr>\n    <tr>\n      <th>4</th>\n      <td>\"SocketException: No buffer space available\" o...</td>\n      <td>&lt;spring&gt;&lt;rest&gt;&lt;jersey&gt;&lt;jersey-client&gt;</td>\n      <td>NaN</td>\n    </tr>\n    <tr>\n      <th>...</th>\n      <td>...</td>\n      <td>...</td>\n      <td>...</td>\n    </tr>\n    <tr>\n      <th>11130</th>\n      <td>Yield slower than return in some cases?</td>\n      <td>&lt;python&gt;&lt;function&gt;&lt;return&gt;&lt;yield&gt;</td>\n      <td>NaN</td>\n    </tr>\n    <tr>\n      <th>11131</th>\n      <td>Yocto: have a dependency to a receipe and a PA...</td>\n      <td>&lt;yocto&gt;&lt;yocto-recipe&gt;</td>\n      <td>NaN</td>\n    </tr>\n    <tr>\n      <th>11132</th>\n      <td>Your app contains an Implicit Internal Intent ...</td>\n      <td>&lt;java&gt;&lt;android&gt;&lt;android-intent&gt;&lt;google-play-co...</td>\n      <td>Looking for solution that work and bypasse thi...</td>\n    </tr>\n    <tr>\n      <th>11133</th>\n      <td>zsh completion: have the most recents files an...</td>\n      <td>&lt;sorting&gt;&lt;zsh&gt;&lt;iterm2&gt;&lt;zshrc&gt;&lt;zsh-completion&gt;</td>\n      <td>NaN</td>\n    </tr>\n    <tr>\n      <th>11134</th>\n      <td>С.Creating threads</td>\n      <td>&lt;c&gt;&lt;multithreading&gt;&lt;pthreads&gt;&lt;qnx&gt;&lt;qnx-neutrino&gt;</td>\n      <td>NaN</td>\n    </tr>\n  </tbody>\n</table>\n<p>11135 rows × 3 columns</p>\n</div>"
     },
     "execution_count": 169,
     "metadata": {},
     "output_type": "execute_result"
    }
   ],
   "source": [
    "data"
   ]
  },
  {
   "cell_type": "code",
   "execution_count": 170,
   "metadata": {
    "pycharm": {
     "name": "#%%\n"
    }
   },
   "outputs": [
    {
     "data": {
      "text/plain": "                                                    Title  \\\ncount                                               11134   \nunique                                              11060   \ntop     zsh completion: have the most recents files an...   \nfreq                                                    4   \n\n                                                  Tags  \\\ncount                                            11134   \nunique                                            8695   \ntop     <javascript><firebase><google-cloud-firestore>   \nfreq                                                95   \n\n                                            Body  \ncount                                       2116  \nunique                                      2108  \ntop     Provide a clear solution for my problem.  \nfreq                                           3  ",
      "text/html": "<div>\n<style scoped>\n    .dataframe tbody tr th:only-of-type {\n        vertical-align: middle;\n    }\n\n    .dataframe tbody tr th {\n        vertical-align: top;\n    }\n\n    .dataframe thead th {\n        text-align: right;\n    }\n</style>\n<table border=\"1\" class=\"dataframe\">\n  <thead>\n    <tr style=\"text-align: right;\">\n      <th></th>\n      <th>Title</th>\n      <th>Tags</th>\n      <th>Body</th>\n    </tr>\n  </thead>\n  <tbody>\n    <tr>\n      <th>count</th>\n      <td>11134</td>\n      <td>11134</td>\n      <td>2116</td>\n    </tr>\n    <tr>\n      <th>unique</th>\n      <td>11060</td>\n      <td>8695</td>\n      <td>2108</td>\n    </tr>\n    <tr>\n      <th>top</th>\n      <td>zsh completion: have the most recents files an...</td>\n      <td>&lt;javascript&gt;&lt;firebase&gt;&lt;google-cloud-firestore&gt;</td>\n      <td>Provide a clear solution for my problem.</td>\n    </tr>\n    <tr>\n      <th>freq</th>\n      <td>4</td>\n      <td>95</td>\n      <td>3</td>\n    </tr>\n  </tbody>\n</table>\n</div>"
     },
     "execution_count": 170,
     "metadata": {},
     "output_type": "execute_result"
    }
   ],
   "source": [
    "data.describe()"
   ]
  },
  {
   "cell_type": "code",
   "execution_count": 171,
   "outputs": [],
   "source": [
    "temp = data.Tags.str.split('><')"
   ],
   "metadata": {
    "collapsed": false,
    "pycharm": {
     "name": "#%%\n"
    }
   }
  },
  {
   "cell_type": "code",
   "execution_count": 172,
   "outputs": [],
   "source": [
    "for i in temp:\n",
    "    try:\n",
    "        i[0] = i[0][1:]\n",
    "        i[-1] = i[-1][:-2]\n",
    "    except:\n",
    "        continue"
   ],
   "metadata": {
    "collapsed": false,
    "pycharm": {
     "name": "#%%\n"
    }
   }
  },
  {
   "cell_type": "code",
   "execution_count": 173,
   "metadata": {
    "pycharm": {
     "name": "#%%\n"
    }
   },
   "outputs": [],
   "source": [
    "temp = data.Tags.str.replace('<', '').str.replace('>', ' ').str.split(' ')"
   ]
  },
  {
   "cell_type": "code",
   "execution_count": 174,
   "outputs": [],
   "source": [
    "temp = temp.dropna()"
   ],
   "metadata": {
    "collapsed": false,
    "pycharm": {
     "name": "#%%\n"
    }
   }
  },
  {
   "cell_type": "code",
   "execution_count": 175,
   "outputs": [],
   "source": [
    "temp2 = pd.DataFrame(columns=['word'])\n",
    "for i in temp:\n",
    "    if len(i) == 0:\n",
    "        continue\n",
    "    for j in i:\n",
    "        try:\n",
    "            temp2 = temp2.append({'word': j}, ignore_index=True)\n",
    "        except:\n",
    "            continue"
   ],
   "metadata": {
    "collapsed": false,
    "pycharm": {
     "name": "#%%\n"
    }
   }
  },
  {
   "cell_type": "code",
   "execution_count": 176,
   "outputs": [
    {
     "data": {
      "text/plain": "{'.d.ts': 1,\n '.htaccess': 12,\n '.net': 104,\n '.net-4.6.1': 2,\n '.net-4.8': 1,\n '.net-5': 30,\n '.net-6.0': 22,\n '.net-assembly': 1,\n '.net-core': 51,\n '.net-core-2.2': 1,\n '.net-core-3.1': 1,\n '.net-fiddle': 1,\n '.net-framework-4.8': 1,\n '.net-standard': 1,\n '.npmrc': 1,\n '.obj': 1,\n '2d': 1,\n '2d-games': 1,\n '3d': 10,\n '3d-mapping': 1,\n '4g': 1,\n '64-bit': 1,\n '7zip': 1,\n 'a2hs': 1,\n 'aar': 1,\n 'ab-testing': 1,\n 'abc': 1,\n 'abort': 1,\n 'abp': 1,\n 'absolute': 2,\n 'absolute-path': 1,\n 'abstract-class': 2,\n 'accelerate-framework': 1,\n 'accelerometer': 1,\n 'accent-color': 1,\n 'access-token': 5,\n 'access-violation': 1,\n 'accessibility': 7,\n 'accessibilityservice': 2,\n 'accordion': 1,\n 'ace-editor': 1,\n 'ackermann': 1,\n 'acl': 2,\n 'acme': 1,\n 'across': 1,\n 'action': 1,\n 'action-mailbox': 1,\n 'action-open-document-tree': 1,\n 'actions-on-google': 3,\n 'active-directory': 6,\n 'activemq': 2,\n 'activerecord': 5,\n 'activiti': 2,\n 'activity-recognition': 2,\n 'acts-as-commentable': 1,\n 'ada': 2,\n 'adapter': 1,\n 'adb': 7,\n 'add-on': 2,\n 'addtextchangedlistener': 1,\n 'adfs': 2,\n 'adjacency-matrix': 3,\n 'admin': 1,\n 'administrate': 1,\n 'adminlte': 1,\n 'admob': 15,\n 'admob-adapter': 1,\n 'admob-rewardedvideoad': 1,\n 'ado.net': 1,\n 'adobe': 1,\n 'adobe-illustrator': 1,\n 'adobe-xd': 1,\n 'ads': 3,\n 'advanced-custom-fields': 1,\n 'aerospike': 1,\n 'aerospike-ce': 1,\n 'aframe': 4,\n 'aframe-networked': 2,\n 'after-effects': 1,\n 'ag-grid': 5,\n 'ag-grid-angular': 2,\n 'ag-grid-vue': 1,\n 'agens-graph': 1,\n 'aggregate': 2,\n 'aggregate-functions': 1,\n 'aggregation': 1,\n 'aggregation-framework': 6,\n 'agora.io': 2,\n 'aio-mysql': 1,\n 'aiohttp': 2,\n 'airbnb-js-styleguide': 1,\n 'airflow': 18,\n 'airflow-2.x': 1,\n 'airflow-scheduler': 7,\n 'airplay': 1,\n 'airpods': 1,\n 'airtable': 1,\n 'ajax': 30,\n 'ajax-polling': 1,\n 'ajaxcontroltoolkit': 1,\n 'ajaxform': 1,\n 'akka': 1,\n 'akka-http': 2,\n 'akka-stream': 1,\n 'akka.net-streams': 1,\n 'alamofire': 1,\n 'alarmmanager': 2,\n 'alembic': 2,\n 'alexa': 1,\n 'alexa-skill': 1,\n 'alfresco': 1,\n 'algolia': 3,\n 'algorithm': 61,\n 'algorithm-animation': 1,\n 'alias': 2,\n 'alipay': 1,\n 'alloy': 1,\n 'alm': 1,\n 'alpakka': 1,\n 'alpha-vantage': 1,\n 'alpine': 4,\n 'alpine.js': 4,\n 'alsa': 1,\n 'altair': 2,\n 'alu': 1,\n 'amazon': 2,\n 'amazon-athena': 6,\n 'amazon-aurora': 4,\n 'amazon-certificate-manager': 1,\n 'amazon-cloudformation': 4,\n 'amazon-cloudfront': 10,\n 'amazon-cloudwatch': 4,\n 'amazon-cognito': 13,\n 'amazon-dynamodb': 7,\n 'amazon-ec2': 15,\n 'amazon-ecs': 4,\n 'amazon-efs': 1,\n 'amazon-eks': 6,\n 'amazon-elastic-beanstalk': 12,\n 'amazon-elastic-transcoder': 1,\n 'amazon-elasticache': 1,\n 'amazon-elb': 1,\n 'amazon-emr': 5,\n 'amazon-fire-tv': 1,\n 'amazon-ground-truth': 1,\n 'amazon-iam': 5,\n 'amazon-kendra': 1,\n 'amazon-kinesis-video-streams': 1,\n 'amazon-kms': 1,\n 'amazon-linux-2': 1,\n 'amazon-neptune': 1,\n 'amazon-product-api': 1,\n 'amazon-quicksight': 2,\n 'amazon-rds': 6,\n 'amazon-rds-proxy': 2,\n 'amazon-redshift': 4,\n 'amazon-route53': 2,\n 'amazon-s3': 36,\n 'amazon-sagemaker': 5,\n 'amazon-ses': 7,\n 'amazon-sns': 1,\n 'amazon-sqs': 2,\n 'amazon-vpc': 4,\n 'amazon-waf': 1,\n 'amazon-web-services': 146,\n 'ambassador': 2,\n 'amcharts': 2,\n 'amcharts4': 2,\n 'amcharts5': 1,\n 'amp-html': 1,\n 'amplify': 3,\n 'amplifyjs': 1,\n 'amplitude': 2,\n 'amq': 1,\n 'amqp': 1,\n 'amz-sp-api': 1,\n 'anaconda': 3,\n 'analytics': 3,\n 'android': 1376,\n 'android-10.0': 1,\n 'android-11': 6,\n 'android-12': 14,\n 'android-accessibility': 2,\n 'android-activity': 2,\n 'android-adapter': 2,\n 'android-alarms': 1,\n 'android-alertdialog': 1,\n 'android-animation': 1,\n 'android-anr-dialog': 1,\n 'android-api-30': 1,\n 'android-app-bundle': 5,\n 'android-app-links': 1,\n 'android-appbarlayout': 1,\n 'android-appcompat': 1,\n 'android-architecture-components': 4,\n 'android-architecture-navigation': 4,\n 'android-assets': 1,\n 'android-asynclistdiffer': 1,\n 'android-asynctask': 4,\n 'android-audio-streams': 1,\n 'android-audiomanager': 4,\n 'android-billing': 1,\n 'android-bitmap': 2,\n 'android-ble': 2,\n 'android-bluetooth': 3,\n 'android-bottomappbar': 1,\n 'android-bottomnav': 1,\n 'android-bottomnavigationview': 1,\n 'android-build': 1,\n 'android-button': 2,\n 'android-camera': 1,\n 'android-camera-intent': 1,\n 'android-camera2': 1,\n 'android-camerax': 2,\n 'android-canvas': 2,\n 'android-cardview': 2,\n 'android-checkbox': 1,\n 'android-chips': 2,\n 'android-collapsingtoolbarlayout': 2,\n 'android-companion-device': 1,\n 'android-compose-textfield': 1,\n 'android-constraintlayout': 1,\n 'android-contentprovider': 1,\n 'android-contentresolver': 1,\n 'android-customtabs': 2,\n 'android-dark-theme': 1,\n 'android-databinding': 2,\n 'android-debug': 1,\n 'android-deep-link': 4,\n 'android-developer-api': 1,\n 'android-device-owner': 1,\n 'android-diffutils': 1,\n 'android-drawable': 4,\n 'android-edittext': 5,\n 'android-emulator': 10,\n 'android-espresso': 9,\n 'android-exifinterface': 1,\n 'android-external-storage': 2,\n 'android-fileprovider': 1,\n 'android-fingerprint-api': 1,\n 'android-fragments': 16,\n 'android-fullscreen': 1,\n 'android-glide': 2,\n 'android-googleapiclient': 1,\n 'android-gps': 1,\n 'android-gradle-plugin': 8,\n 'android-image': 1,\n 'android-imagebutton': 1,\n 'android-imageview': 2,\n 'android-instant-apps': 1,\n 'android-instrumentation': 3,\n 'android-intent': 9,\n 'android-internal-storage': 1,\n 'android-jacoco': 1,\n 'android-jetifier': 1,\n 'android-jetpack': 6,\n 'android-jetpack-compose': 58,\n 'android-jetpack-compose-testing': 2,\n 'android-jetpack-compose-text': 1,\n 'android-jetpack-datastore': 1,\n 'android-jetpack-navigation': 5,\n 'android-jobscheduler': 1,\n 'android-junit': 2,\n 'android-kernel': 2,\n 'android-keypad': 1,\n 'android-layout': 15,\n 'android-lifecycle': 6,\n 'android-linearlayout': 1,\n 'android-lint': 1,\n 'android-listadapter': 1,\n 'android-listview': 3,\n 'android-livedata': 2,\n 'android-looper': 1,\n 'android-manifest': 5,\n 'android-maps-utils': 1,\n 'android-maps-v2': 1,\n 'android-mapview': 1,\n 'android-mediacodec': 2,\n 'android-mediaplayer': 2,\n 'android-mediaprojection': 1,\n 'android-menu': 2,\n 'android-motionlayout': 1,\n 'android-moxy': 1,\n 'android-multi-module': 1,\n 'android-music-player': 1,\n 'android-mvp': 1,\n 'android-mvvm': 2,\n 'android-navigation': 3,\n 'android-navigation-graph': 3,\n 'android-ndk': 5,\n 'android-nestedscrollview': 1,\n 'android-notifications': 9,\n 'android-orientation': 2,\n 'android-pageradapter': 1,\n 'android-paging': 5,\n 'android-paging-3': 5,\n 'android-paging-library': 3,\n 'android-pendingintent': 2,\n 'android-permissions': 7,\n 'android-photoview': 1,\n 'android-profiler': 1,\n 'android-progressbar': 1,\n 'android-push-notification': 2,\n 'android-recyclerview': 62,\n 'android-relativelayout': 1,\n 'android-resources': 1,\n 'android-room': 7,\n 'android-safe-args': 1,\n 'android-scrollview': 1,\n 'android-sdk-tools': 1,\n 'android-security': 1,\n 'android-sensors': 2,\n 'android-service': 5,\n 'android-settings': 1,\n 'android-shortcutmanager': 1,\n 'android-snackbar': 1,\n 'android-softkeyboard': 1,\n 'android-source': 2,\n 'android-speech-api': 2,\n 'android-spinner': 2,\n 'android-splashscreen': 1,\n 'android-storage': 1,\n 'android-studio': 58,\n 'android-studio-arctic-fox': 1,\n 'android-studio-bumblebee': 1,\n 'android-subscriptionmanager': 1,\n 'android-tap-and-pay': 1,\n 'android-testing': 6,\n 'android-textinputedittext': 1,\n 'android-textinputlayout': 1,\n 'android-theme': 1,\n 'android-things': 1,\n 'android-toolbar': 1,\n 'android-traceview': 1,\n 'android-transitions': 3,\n 'android-tv': 4,\n 'android-typeface': 1,\n 'android-uiautomator': 2,\n 'android-unit-testing': 2,\n 'android-variants': 1,\n 'android-vectordrawable': 2,\n 'android-video-player': 1,\n 'android-videoview': 1,\n 'android-view': 1,\n 'android-viewbinding': 1,\n 'android-viewholder': 1,\n 'android-viewmodel': 3,\n 'android-viewpager': 3,\n 'android-viewpager2': 2,\n 'android-virtualdisplay': 1,\n 'android-webview': 8,\n 'android-widget': 2,\n 'android-workmanager': 9,\n 'android-wrap-content': 2,\n 'androidx': 1,\n 'angular': 306,\n 'angular-cdk': 1,\n 'angular-cdk-drag-drop': 1,\n 'angular-cdk-virtual-scroll': 1,\n 'angular-changedetection': 2,\n 'angular-cli': 5,\n 'angular-directive': 2,\n 'angular-dynamic-components': 1,\n 'angular-eslint': 1,\n 'angular-event-emitter': 1,\n 'angular-forms': 2,\n 'angular-httpclient': 3,\n 'angular-i18n': 2,\n 'angular-ivy': 1,\n 'angular-library': 3,\n 'angular-localize': 3,\n 'angular-material': 14,\n 'angular-material-table': 1,\n 'angular-module': 1,\n 'angular-ngselect': 1,\n 'angular-package-format': 2,\n 'angular-pipe': 1,\n 'angular-reactive-forms': 5,\n 'angular-resolver': 1,\n 'angular-router': 1,\n 'angular-routing': 2,\n 'angular-service-worker': 1,\n 'angular-spectator': 1,\n 'angular-state-managmement': 1,\n 'angular-ui-router': 3,\n 'angular-universal': 2,\n 'angular-upgrade': 1,\n 'angular10': 1,\n 'angular11': 1,\n 'angular12': 4,\n 'angular13': 1,\n 'angular2-aot': 1,\n 'angular2-changedetection': 1,\n 'angular6': 1,\n 'angular7': 1,\n 'angular8': 5,\n 'angularfire': 32,\n 'angularfire2': 26,\n 'angularfire2-offline': 1,\n 'angularjs': 11,\n 'animate.css': 1,\n 'animation': 15,\n 'anki': 1,\n 'annotation-processing': 2,\n 'annotations': 3,\n 'anonymous-users': 1,\n 'ansible': 6,\n 'ansible-collections': 1,\n 'ansible-galaxy': 1,\n 'ansible-tower': 1,\n 'ansible-vault': 1,\n 'ansys': 1,\n 'ant': 1,\n 'ant-blazor': 1,\n 'antd': 6,\n 'antialiasing': 1,\n 'antiforgerytoken': 1,\n 'antimalware': 1,\n 'antivirus': 1,\n 'antlr4': 1,\n 'antv': 1,\n 'any-config': 1,\n 'anychart': 1,\n 'anytree': 1,\n 'apache': 19,\n 'apache-arrow': 1,\n 'apache-beam': 8,\n 'apache-beam-internals': 1,\n 'apache-beam-io': 3,\n 'apache-camel': 6,\n 'apache-camel-k': 2,\n 'apache-commons-lang3': 1,\n 'apache-commons-net': 1,\n 'apache-flink': 5,\n 'apache-httpclient-4.x': 1,\n 'apache-kafka': 29,\n 'apache-kafka-connect': 4,\n 'apache-kafka-streams': 7,\n 'apache-mina': 2,\n 'apache-nifi': 1,\n 'apache-poi': 1,\n 'apache-spark': 63,\n 'apache-spark-dataset': 1,\n 'apache-spark-ml': 1,\n 'apache-spark-mllib': 1,\n 'apache-spark-sql': 19,\n 'apache-sshd': 1,\n 'apache-superset': 2,\n 'apache-tika': 1,\n 'apache-tomee': 2,\n 'apache-vysper': 1,\n 'apache-zeppelin': 1,\n 'apache-zookeeper': 1,\n 'apache2': 3,\n 'apache2.4': 1,\n 'apartment-gem': 1,\n 'ape-phylo': 1,\n 'apexcharts': 2,\n 'api': 25,\n 'api-design': 3,\n 'api-gateway': 1,\n 'api-key': 3,\n 'api-platform.com': 2,\n 'apisauce': 1,\n 'apk': 4,\n 'apns-php': 1,\n 'apo': 1,\n 'apollo': 12,\n 'apollo-cache-inmemory': 1,\n 'apollo-client': 15,\n 'apollo-server': 5,\n 'app-code': 1,\n 'app-engine-flexible': 1,\n 'app-nap': 1,\n 'app-store': 2,\n 'app-store-connect': 4,\n 'app-themes': 1,\n 'apparmor': 1,\n 'appdelegate': 1,\n 'appdomain': 1,\n 'appgallery-connect': 2,\n 'appium': 4,\n 'appium-android': 2,\n 'appkit': 2,\n 'apple-app-site-association': 1,\n 'apple-authentication': 1,\n 'apple-cryptokit': 1,\n 'apple-developer': 3,\n 'apple-developer-account': 1,\n 'apple-developer-enterprise': 1,\n 'apple-login': 1,\n 'apple-m1': 16,\n 'apple-musickit': 1,\n 'apple-pdfkit': 1,\n 'apple-push-notifications': 8,\n 'apple-sign-in': 1,\n 'apple-wallet': 2,\n 'apple-watch': 1,\n 'applepay': 1,\n 'applescript': 2,\n 'application-lifecycle': 1,\n 'application-pool': 1,\n 'applicationcontroller': 1,\n 'applinks': 2,\n 'apply': 1,\n 'apriori': 1,\n 'apscheduler': 2,\n 'apt': 1,\n 'arcgis': 3,\n 'arcgis-js-api': 1,\n 'architecture': 10,\n 'archive': 1,\n 'arcore': 1,\n 'arcpullr': 1,\n 'arduino': 2,\n 'arduino-esp8266': 2,\n 'argocd': 2,\n 'argument-validation': 1,\n 'arguments': 2,\n 'arima': 1,\n 'arkit': 4,\n 'arm': 1,\n 'arm-template': 1,\n 'arm64': 3,\n 'armv7': 1,\n 'arp': 1,\n 'array-filter': 1,\n 'array-formulas': 2,\n 'array-map': 2,\n 'arraylist': 10,\n 'arrays': 61,\n 'article': 1,\n 'artifactory': 1,\n 'artificial-intelligence': 2,\n 'asgi': 1,\n 'aslr': 1,\n 'asn1': 1,\n 'asp.net': 39,\n 'asp.net-ajax': 1,\n 'asp.net-blazor': 1,\n 'asp.net-boilerplate': 1,\n 'asp.net-core': 77,\n 'asp.net-core-3.1': 1,\n 'asp.net-core-5.0': 3,\n 'asp.net-core-6.0': 4,\n 'asp.net-core-identity': 1,\n 'asp.net-core-mvc': 8,\n 'asp.net-core-signalr': 2,\n 'asp.net-core-webapi': 8,\n 'asp.net-identity': 7,\n 'asp.net-mvc': 33,\n 'asp.net-mvc-5': 1,\n 'asp.net-web-api': 12,\n 'asp.net-web-api2': 1,\n 'asp.net5': 2,\n 'aspect-ratio': 2,\n 'aspectj': 2,\n 'aspnetcore-environment': 1,\n 'assembly': 24,\n 'assemblyversions': 1,\n 'assertj': 1,\n 'associations': 1,\n 'associative-array': 1,\n 'assume-role': 1,\n 'asus': 1,\n 'async-await': 25,\n 'async.js': 3,\n 'asynccallback': 1,\n 'asynchronous': 25,\n 'asyncpg': 2,\n 'asyncstorage': 1,\n 'atlassian-connect': 1,\n 'atlassian-sourcetree': 1,\n 'atmega32': 1,\n 'atoi': 1,\n 'att': 1,\n 'attachment': 1,\n 'attr-encrypted': 1,\n 'attributes': 1,\n 'attribution': 1,\n 'audience': 1,\n 'audio': 33,\n 'audio-capture': 1,\n 'audio-player': 1,\n 'audio-recording': 1,\n 'audio-service': 1,\n 'audio-worklet': 1,\n 'audiocontext': 1,\n 'audiotrack': 1,\n 'audit': 2,\n 'audit-logging': 1,\n 'augmented-reality': 3,\n 'aura-framework': 1,\n 'auth-guard': 1,\n 'auth0': 4,\n 'authentication': 39,\n 'authorization': 6,\n 'authorize.net': 1,\n 'authprovider': 1,\n 'auto-increment': 1,\n 'autocomplete': 5,\n 'autocompletetextview': 1,\n 'autocorrelation': 1,\n 'autodesk-forge': 1,\n 'autodesk-viewer': 1,\n 'autodiff': 1,\n 'autoencoder': 2,\n 'autofac': 1,\n 'autogrow': 1,\n 'autohotkey': 6,\n 'autolayout': 2,\n 'autolink': 1,\n 'automapper': 1,\n 'automated-deployment': 1,\n 'automated-refactoring': 2,\n 'automated-tests': 6,\n 'automatic-differentiation': 1,\n 'automation': 7,\n 'autopilot': 2,\n 'autoplay': 1,\n 'autorest': 1,\n 'autotest': 1,\n 'autovacuum': 1,\n 'avalondock': 1,\n 'avalonia': 1,\n 'avaloniaui': 1,\n 'avassetwriter': 1,\n 'avaudioengine': 1,\n 'avaudioplayer': 2,\n 'avd': 2,\n 'average': 1,\n 'avfoundation': 8,\n 'avkit': 1,\n 'avplayer': 3,\n 'avplayerviewcontroller': 1,\n 'avr': 2,\n 'avro': 1,\n 'avsc': 1,\n 'aws-amplify': 16,\n 'aws-amplify-sdk-js': 1,\n 'aws-api-gateway': 8,\n 'aws-appsync': 2,\n 'aws-auto-scaling': 1,\n 'aws-cdk': 9,\n 'aws-certificate-manager': 1,\n 'aws-chime-sdk': 1,\n 'aws-cli': 4,\n 'aws-cloudwatch-log-insights': 1,\n 'aws-code-deploy': 1,\n 'aws-codebuild': 2,\n 'aws-codecommit': 4,\n 'aws-codepipeline': 3,\n 'aws-device-farm': 1,\n 'aws-documentdb': 3,\n 'aws-ec2-instance-connect': 1,\n 'aws-elasticache': 1,\n 'aws-fargate': 2,\n 'aws-glue': 6,\n 'aws-glue-spark': 1,\n 'aws-iot': 1,\n 'aws-iot-sitewise': 1,\n 'aws-kinesis': 1,\n 'aws-lambda': 36,\n 'aws-msk': 1,\n 'aws-msk-connect': 1,\n 'aws-nat-gateway': 1,\n 'aws-policies': 1,\n 'aws-regions': 3,\n 'aws-reserved-instances': 1,\n 'aws-sam': 4,\n 'aws-sdk': 2,\n 'aws-sdk-js': 1,\n 'aws-sdk-ruby': 1,\n 'aws-secrets-manager': 2,\n 'aws-serverless': 4,\n 'aws-ssm': 3,\n 'aws-step-functions': 2,\n 'aws-transcribe': 1,\n 'aws-xray': 1,\n 'awt': 3,\n 'axios': 42,\n 'axis': 1,\n 'axis2': 1,\n 'axon': 1,\n 'azure': 78,\n 'azure-active-directory': 13,\n 'azure-ad-b2c': 3,\n 'azure-ad-b2c-custom-policy': 1,\n 'azure-aks': 3,\n 'azure-api-management': 1,\n 'azure-application-gateway': 2,\n 'azure-application-insights': 3,\n 'azure-artifacts': 1,\n 'azure-backup-vault': 1,\n 'azure-bicep': 2,\n 'azure-blob-storage': 3,\n 'azure-boards': 1,\n 'azure-bot-service': 1,\n 'azure-cognitive-search': 1,\n 'azure-cognitive-services': 1,\n 'azure-container-instances': 2,\n 'azure-container-registry': 1,\n 'azure-container-service': 1,\n 'azure-cosmosdb': 3,\n 'azure-data-explorer': 1,\n 'azure-data-factory': 1,\n 'azure-data-factory-pipeline': 1,\n 'azure-data-lake': 1,\n 'azure-databricks': 2,\n 'azure-devops': 30,\n 'azure-devops-extensions': 1,\n 'azure-devops-hosted-agent': 1,\n 'azure-devops-rest-api': 3,\n 'azure-devops-server': 1,\n 'azure-devops-server-2019': 1,\n 'azure-devops-services': 1,\n 'azure-digital-twins': 1,\n 'azure-durable-functions': 1,\n 'azure-eventhub': 1,\n 'azure-front-door': 2,\n 'azure-functions': 10,\n 'azure-git-deployment': 1,\n 'azure-http-trigger': 1,\n 'azure-identity': 1,\n 'azure-iot-hub': 1,\n 'azure-keyvault': 2,\n 'azure-load-balancer': 1,\n 'azure-log-analytics': 1,\n 'azure-logic-apps': 3,\n 'azure-managed-app': 1,\n 'azure-notificationhub': 1,\n 'azure-pipelines': 16,\n 'azure-pipelines-build-task': 2,\n 'azure-pipelines-release-pipeline': 3,\n 'azure-pipelines-release-task': 1,\n 'azure-pipelines-yaml': 4,\n 'azure-postgresql': 1,\n 'azure-python-sdk': 1,\n 'azure-redis-cache': 1,\n 'azure-resource-manager': 1,\n 'azure-sdk-.net': 2,\n 'azure-service-principal': 1,\n 'azure-servicebus-topics': 2,\n 'azure-signalr': 1,\n 'azure-sql-database': 14,\n 'azure-sql-managed-instance': 1,\n 'azure-sql-server': 7,\n 'azure-static-web-app': 4,\n 'azure-storage': 3,\n 'azure-storage-account': 2,\n 'azure-storage-queues': 1,\n 'azure-synapse': 2,\n 'azure-traffic-manager': 1,\n 'azure-virtual-machine': 1,\n 'azure-virtual-network': 2,\n 'azure-vm': 1,\n 'azure-web-app-service': 10,\n 'azure-webjobs': 1,\n 'azure-webjobs-triggered': 1,\n 'azurekinect': 1,\n 'azureportal': 1,\n 'azureservicebus': 1,\n 'b-tree': 2,\n 'babel-jest': 3,\n 'babel-loader': 4,\n 'babeljs': 9,\n 'back-button': 2,\n 'backend': 7,\n 'background-clip': 1,\n 'background-color': 2,\n 'background-process': 2,\n 'background-service': 2,\n 'backpropagation': 1,\n 'backtracking': 1,\n 'backup': 2,\n 'badge': 3,\n 'bamboo': 2,\n 'bamboo-artifacts': 1,\n 'bandit': 1,\n 'bandwidth-throttling': 1,\n 'bar-chart': 3,\n 'barbajs': 4,\n 'barcode': 1,\n 'bartender': 1,\n 'base64': 5,\n 'bash': 13,\n 'basic-authentication': 4,\n 'batch-file': 1,\n 'batch-processing': 1,\n 'batching': 1,\n 'bats-core': 1,\n 'bayesian': 1,\n 'bazel': 5,\n 'bazel-rules': 2,\n 'bazel-rules-nodejs': 1,\n 'bcrypt': 1,\n 'beagleboard': 2,\n 'beagleboneblack': 3,\n 'bean-validation': 1,\n 'bearer-token': 1,\n 'beautifulsoup': 4,\n 'beeline': 1,\n 'begincollectionitem': 1,\n 'bento4': 1,\n 'bert-language-model': 5,\n 'bezier': 1,\n 'big-o': 2,\n 'bigcommerce': 1,\n 'bigdata': 5,\n 'biginteger': 1,\n 'bigquery-udf': 3,\n 'billing': 1,\n 'binance': 1,\n 'binance-api-client': 1,\n 'binance-smart-chain': 2,\n 'binary': 2,\n 'binary-search': 1,\n 'binary-tree': 2,\n 'binaryfiles': 1,\n 'bind': 1,\n 'binding': 1,\n 'bing': 1,\n 'bing-api': 1,\n 'bios': 1,\n 'bison': 1,\n 'bit-packing': 1,\n 'bit-shift': 1,\n 'bitbake': 1,\n 'bitblt': 1,\n 'bitbucket': 8,\n 'bitbucket-pipelines': 3,\n 'bitbucket-server': 1,\n 'bitcode': 1,\n 'bitcoin-testnet': 1,\n 'bitcoinj': 1,\n 'bitmap': 6,\n 'bitnami': 1,\n 'bitrise': 1,\n 'blacklist': 1,\n 'blazor': 36,\n 'blazor-server-side': 8,\n 'blazor-webassembly': 18,\n 'blender': 2,\n 'blending': 1,\n 'blitz.js': 1,\n 'blob': 4,\n 'bloc': 5,\n 'block': 1,\n 'blockchain': 8,\n 'blocking': 1,\n 'blogdown': 1,\n 'blogger': 1,\n 'blogger-dynamic-views': 1,\n 'blogs': 1,\n 'bloom': 1,\n 'bloom-filter': 1,\n 'bluehost': 1,\n 'bluestacks': 1,\n 'bluetooth': 10,\n 'bluetooth-gatt': 1,\n 'bluetooth-lowenergy': 7,\n 'bluez': 3,\n 'bmp': 1,\n 'bochs': 1,\n 'boilerplate': 1,\n 'bokeh': 2,\n 'bookdown': 3,\n 'boolean-algebra': 1,\n 'boolean-logic': 1,\n 'boost': 1,\n 'boost-asio': 2,\n 'boost-python': 2,\n 'bootstrap-4': 9,\n 'bootstrap-5': 9,\n 'bootstrap-popover': 1,\n 'bootstrap-vue': 5,\n 'border': 1,\n 'borrow-checker': 1,\n 'bot-framework-composer': 1,\n 'botdetect': 1,\n 'botframework': 5,\n 'boto3': 6,\n 'botocore': 1,\n 'bots': 2,\n 'bottom-sheet': 5,\n 'bottomnavigationview': 5,\n 'bottomsheetdialogfragment': 1,\n 'bouncycastle': 2,\n 'bounded-types': 1,\n 'bounding-box': 1,\n 'boxplot': 2,\n 'bpmn': 1,\n 'braintree': 2,\n 'braintree-sandbox': 1,\n 'branch.io': 1,\n 'brave': 1,\n 'brave-browser': 2,\n 'broadcastreceiver': 3,\n 'brother-print-sdk': 1,\n 'brotli': 2,\n 'brownie': 4,\n 'browser': 15,\n 'browser-cache': 1,\n 'browserify': 1,\n 'browserstack': 2,\n 'browserstack-app-automate': 1,\n 'bscscan': 1,\n 'bson': 2,\n 'btrfs': 1,\n 'buffer': 2,\n 'buffer-geometry': 1,\n 'build': 12,\n 'build-runner': 2,\n 'build-tools': 1,\n 'build.gradle': 8,\n 'build.xml': 1,\n 'builder': 2,\n 'buildozer': 2,\n 'buildpack': 1,\n 'buildx': 2,\n 'built-in': 1,\n 'bukkit': 1,\n 'bulk-create': 1,\n 'bulkinsert': 1,\n 'bulksms': 1,\n 'bull': 1,\n 'bull-queue': 1,\n 'bull.js': 1,\n 'bullet': 1,\n 'bullmq': 1,\n 'bulma': 2,\n 'bundle': 1,\n 'bundle-identifier': 1,\n 'bundler': 2,\n 'bundles': 1,\n 'busboy': 1,\n 'business-intelligence': 1,\n 'button': 3,\n 'byte': 2,\n 'c': 50,\n 'c#': 399,\n 'c#-4.0': 1,\n 'c#-7.0': 1,\n 'c++': 145,\n 'c++-cli': 1,\n 'c++-concepts': 3,\n 'c++-coroutine': 1,\n 'c++-modules': 1,\n 'c++-winrt': 1,\n 'c++11': 1,\n 'c++17': 3,\n 'c++20': 17,\n 'c++23': 1,\n 'c++builder': 1,\n 'c++pmr': 1,\n 'c-preprocessor': 2,\n 'c11': 1,\n 'c99': 1,\n 'ca': 1,\n 'cabasicanimation': 1,\n 'cac': 1,\n 'cacerts': 1,\n 'cache-control': 1,\n 'cachecow': 1,\n 'caching': 19,\n 'caffe2': 1,\n 'cairo': 3,\n 'cakephp': 3,\n 'cakephp-3.x': 1,\n 'cakephp-4.x': 1,\n 'calculated-columns': 1,\n 'caldav': 1,\n 'calendar': 3,\n 'calibration': 1,\n 'calico': 1,\n 'callback': 4,\n 'calllog': 1,\n 'callr': 1,\n 'camera': 3,\n 'camera-calibration': 2,\n 'cameraoverlayview': 1,\n 'camunda': 2,\n 'cancellation': 1,\n 'cancellationtokensource': 1,\n 'candlestick-chart': 1,\n 'canny-operator': 1,\n 'canvas': 13,\n 'capacitor': 19,\n 'capacitor-plugin': 1,\n 'capistrano': 1,\n 'capitalization': 1,\n 'capnproto': 1,\n 'caprover': 1,\n 'captcha': 3,\n 'capybara': 1,\n 'carbon': 1,\n 'card': 1,\n 'cardview': 1,\n 'caret': 1,\n 'carousel': 3,\n ...}"
     },
     "execution_count": 176,
     "metadata": {},
     "output_type": "execute_result"
    }
   ],
   "source": [
    "import numpy\n",
    "\n",
    "unique, counts = numpy.unique(temp2, return_counts=True)\n",
    "mapa = dict(zip(unique, counts))\n",
    "mapa.pop('')\n",
    "mapa"
   ],
   "metadata": {
    "collapsed": false,
    "pycharm": {
     "name": "#%%\n"
    }
   }
  },
  {
   "cell_type": "code",
   "execution_count": 177,
   "outputs": [
    {
     "data": {
      "text/plain": "                   Tag  Occurences\n0                .d.ts           1\n1            .htaccess          12\n2                 .net         104\n3           .net-4.6.1           2\n4             .net-4.8           1\n...                ...         ...\n6270    zsh-completion           4\n6271             zshrc           4\n6272           zustand           1\n6273             zxing           1\n6274  zynq-ultrascale+           1\n\n[6275 rows x 2 columns]",
      "text/html": "<div>\n<style scoped>\n    .dataframe tbody tr th:only-of-type {\n        vertical-align: middle;\n    }\n\n    .dataframe tbody tr th {\n        vertical-align: top;\n    }\n\n    .dataframe thead th {\n        text-align: right;\n    }\n</style>\n<table border=\"1\" class=\"dataframe\">\n  <thead>\n    <tr style=\"text-align: right;\">\n      <th></th>\n      <th>Tag</th>\n      <th>Occurences</th>\n    </tr>\n  </thead>\n  <tbody>\n    <tr>\n      <th>0</th>\n      <td>.d.ts</td>\n      <td>1</td>\n    </tr>\n    <tr>\n      <th>1</th>\n      <td>.htaccess</td>\n      <td>12</td>\n    </tr>\n    <tr>\n      <th>2</th>\n      <td>.net</td>\n      <td>104</td>\n    </tr>\n    <tr>\n      <th>3</th>\n      <td>.net-4.6.1</td>\n      <td>2</td>\n    </tr>\n    <tr>\n      <th>4</th>\n      <td>.net-4.8</td>\n      <td>1</td>\n    </tr>\n    <tr>\n      <th>...</th>\n      <td>...</td>\n      <td>...</td>\n    </tr>\n    <tr>\n      <th>6270</th>\n      <td>zsh-completion</td>\n      <td>4</td>\n    </tr>\n    <tr>\n      <th>6271</th>\n      <td>zshrc</td>\n      <td>4</td>\n    </tr>\n    <tr>\n      <th>6272</th>\n      <td>zustand</td>\n      <td>1</td>\n    </tr>\n    <tr>\n      <th>6273</th>\n      <td>zxing</td>\n      <td>1</td>\n    </tr>\n    <tr>\n      <th>6274</th>\n      <td>zynq-ultrascale+</td>\n      <td>1</td>\n    </tr>\n  </tbody>\n</table>\n<p>6275 rows × 2 columns</p>\n</div>"
     },
     "execution_count": 177,
     "metadata": {},
     "output_type": "execute_result"
    }
   ],
   "source": [
    "df = pd.DataFrame(list(mapa.items()), columns=['Tag', 'Occurences'])\n",
    "df"
   ],
   "metadata": {
    "collapsed": false,
    "pycharm": {
     "name": "#%%\n"
    }
   }
  },
  {
   "cell_type": "code",
   "execution_count": 178,
   "outputs": [],
   "source": [
    "import plotly.express as px"
   ],
   "metadata": {
    "collapsed": false,
    "pycharm": {
     "name": "#%%\n"
    }
   }
  },
  {
   "cell_type": "code",
   "execution_count": 179,
   "outputs": [
    {
     "data": {
      "application/vnd.plotly.v1+json": {
       "data": [
        {
         "alignmentgroup": "True",
         "bingroup": "x",
         "histfunc": "sum",
         "hovertemplate": "Tag=%{x}<br>sum of Occurences=%{y}<extra></extra>",
         "legendgroup": "",
         "marker": {
          "color": "#636efa",
          "pattern": {
           "shape": ""
          }
         },
         "name": "",
         "offsetgroup": "",
         "orientation": "v",
         "showlegend": false,
         "x": [
          "android",
          "firebase",
          "firebase-authentication",
          "firebase-realtime-database",
          "flutter",
          "google-cloud-firestore",
          "java",
          "javascript",
          "python",
          "reactjs"
         ],
         "xaxis": "x",
         "y": [
          1376,
          2338,
          537,
          846,
          761,
          1291,
          827,
          1879,
          957,
          785
         ],
         "yaxis": "y",
         "type": "histogram"
        }
       ],
       "layout": {
        "template": {
         "data": {
          "bar": [
           {
            "error_x": {
             "color": "#2a3f5f"
            },
            "error_y": {
             "color": "#2a3f5f"
            },
            "marker": {
             "line": {
              "color": "#E5ECF6",
              "width": 0.5
             },
             "pattern": {
              "fillmode": "overlay",
              "size": 10,
              "solidity": 0.2
             }
            },
            "type": "bar"
           }
          ],
          "barpolar": [
           {
            "marker": {
             "line": {
              "color": "#E5ECF6",
              "width": 0.5
             },
             "pattern": {
              "fillmode": "overlay",
              "size": 10,
              "solidity": 0.2
             }
            },
            "type": "barpolar"
           }
          ],
          "carpet": [
           {
            "aaxis": {
             "endlinecolor": "#2a3f5f",
             "gridcolor": "white",
             "linecolor": "white",
             "minorgridcolor": "white",
             "startlinecolor": "#2a3f5f"
            },
            "baxis": {
             "endlinecolor": "#2a3f5f",
             "gridcolor": "white",
             "linecolor": "white",
             "minorgridcolor": "white",
             "startlinecolor": "#2a3f5f"
            },
            "type": "carpet"
           }
          ],
          "choropleth": [
           {
            "colorbar": {
             "outlinewidth": 0,
             "ticks": ""
            },
            "type": "choropleth"
           }
          ],
          "contour": [
           {
            "colorbar": {
             "outlinewidth": 0,
             "ticks": ""
            },
            "colorscale": [
             [
              0.0,
              "#0d0887"
             ],
             [
              0.1111111111111111,
              "#46039f"
             ],
             [
              0.2222222222222222,
              "#7201a8"
             ],
             [
              0.3333333333333333,
              "#9c179e"
             ],
             [
              0.4444444444444444,
              "#bd3786"
             ],
             [
              0.5555555555555556,
              "#d8576b"
             ],
             [
              0.6666666666666666,
              "#ed7953"
             ],
             [
              0.7777777777777778,
              "#fb9f3a"
             ],
             [
              0.8888888888888888,
              "#fdca26"
             ],
             [
              1.0,
              "#f0f921"
             ]
            ],
            "type": "contour"
           }
          ],
          "contourcarpet": [
           {
            "colorbar": {
             "outlinewidth": 0,
             "ticks": ""
            },
            "type": "contourcarpet"
           }
          ],
          "heatmap": [
           {
            "colorbar": {
             "outlinewidth": 0,
             "ticks": ""
            },
            "colorscale": [
             [
              0.0,
              "#0d0887"
             ],
             [
              0.1111111111111111,
              "#46039f"
             ],
             [
              0.2222222222222222,
              "#7201a8"
             ],
             [
              0.3333333333333333,
              "#9c179e"
             ],
             [
              0.4444444444444444,
              "#bd3786"
             ],
             [
              0.5555555555555556,
              "#d8576b"
             ],
             [
              0.6666666666666666,
              "#ed7953"
             ],
             [
              0.7777777777777778,
              "#fb9f3a"
             ],
             [
              0.8888888888888888,
              "#fdca26"
             ],
             [
              1.0,
              "#f0f921"
             ]
            ],
            "type": "heatmap"
           }
          ],
          "heatmapgl": [
           {
            "colorbar": {
             "outlinewidth": 0,
             "ticks": ""
            },
            "colorscale": [
             [
              0.0,
              "#0d0887"
             ],
             [
              0.1111111111111111,
              "#46039f"
             ],
             [
              0.2222222222222222,
              "#7201a8"
             ],
             [
              0.3333333333333333,
              "#9c179e"
             ],
             [
              0.4444444444444444,
              "#bd3786"
             ],
             [
              0.5555555555555556,
              "#d8576b"
             ],
             [
              0.6666666666666666,
              "#ed7953"
             ],
             [
              0.7777777777777778,
              "#fb9f3a"
             ],
             [
              0.8888888888888888,
              "#fdca26"
             ],
             [
              1.0,
              "#f0f921"
             ]
            ],
            "type": "heatmapgl"
           }
          ],
          "histogram": [
           {
            "marker": {
             "pattern": {
              "fillmode": "overlay",
              "size": 10,
              "solidity": 0.2
             }
            },
            "type": "histogram"
           }
          ],
          "histogram2d": [
           {
            "colorbar": {
             "outlinewidth": 0,
             "ticks": ""
            },
            "colorscale": [
             [
              0.0,
              "#0d0887"
             ],
             [
              0.1111111111111111,
              "#46039f"
             ],
             [
              0.2222222222222222,
              "#7201a8"
             ],
             [
              0.3333333333333333,
              "#9c179e"
             ],
             [
              0.4444444444444444,
              "#bd3786"
             ],
             [
              0.5555555555555556,
              "#d8576b"
             ],
             [
              0.6666666666666666,
              "#ed7953"
             ],
             [
              0.7777777777777778,
              "#fb9f3a"
             ],
             [
              0.8888888888888888,
              "#fdca26"
             ],
             [
              1.0,
              "#f0f921"
             ]
            ],
            "type": "histogram2d"
           }
          ],
          "histogram2dcontour": [
           {
            "colorbar": {
             "outlinewidth": 0,
             "ticks": ""
            },
            "colorscale": [
             [
              0.0,
              "#0d0887"
             ],
             [
              0.1111111111111111,
              "#46039f"
             ],
             [
              0.2222222222222222,
              "#7201a8"
             ],
             [
              0.3333333333333333,
              "#9c179e"
             ],
             [
              0.4444444444444444,
              "#bd3786"
             ],
             [
              0.5555555555555556,
              "#d8576b"
             ],
             [
              0.6666666666666666,
              "#ed7953"
             ],
             [
              0.7777777777777778,
              "#fb9f3a"
             ],
             [
              0.8888888888888888,
              "#fdca26"
             ],
             [
              1.0,
              "#f0f921"
             ]
            ],
            "type": "histogram2dcontour"
           }
          ],
          "mesh3d": [
           {
            "colorbar": {
             "outlinewidth": 0,
             "ticks": ""
            },
            "type": "mesh3d"
           }
          ],
          "parcoords": [
           {
            "line": {
             "colorbar": {
              "outlinewidth": 0,
              "ticks": ""
             }
            },
            "type": "parcoords"
           }
          ],
          "pie": [
           {
            "automargin": true,
            "type": "pie"
           }
          ],
          "scatter": [
           {
            "marker": {
             "colorbar": {
              "outlinewidth": 0,
              "ticks": ""
             }
            },
            "type": "scatter"
           }
          ],
          "scatter3d": [
           {
            "line": {
             "colorbar": {
              "outlinewidth": 0,
              "ticks": ""
             }
            },
            "marker": {
             "colorbar": {
              "outlinewidth": 0,
              "ticks": ""
             }
            },
            "type": "scatter3d"
           }
          ],
          "scattercarpet": [
           {
            "marker": {
             "colorbar": {
              "outlinewidth": 0,
              "ticks": ""
             }
            },
            "type": "scattercarpet"
           }
          ],
          "scattergeo": [
           {
            "marker": {
             "colorbar": {
              "outlinewidth": 0,
              "ticks": ""
             }
            },
            "type": "scattergeo"
           }
          ],
          "scattergl": [
           {
            "marker": {
             "colorbar": {
              "outlinewidth": 0,
              "ticks": ""
             }
            },
            "type": "scattergl"
           }
          ],
          "scattermapbox": [
           {
            "marker": {
             "colorbar": {
              "outlinewidth": 0,
              "ticks": ""
             }
            },
            "type": "scattermapbox"
           }
          ],
          "scatterpolar": [
           {
            "marker": {
             "colorbar": {
              "outlinewidth": 0,
              "ticks": ""
             }
            },
            "type": "scatterpolar"
           }
          ],
          "scatterpolargl": [
           {
            "marker": {
             "colorbar": {
              "outlinewidth": 0,
              "ticks": ""
             }
            },
            "type": "scatterpolargl"
           }
          ],
          "scatterternary": [
           {
            "marker": {
             "colorbar": {
              "outlinewidth": 0,
              "ticks": ""
             }
            },
            "type": "scatterternary"
           }
          ],
          "surface": [
           {
            "colorbar": {
             "outlinewidth": 0,
             "ticks": ""
            },
            "colorscale": [
             [
              0.0,
              "#0d0887"
             ],
             [
              0.1111111111111111,
              "#46039f"
             ],
             [
              0.2222222222222222,
              "#7201a8"
             ],
             [
              0.3333333333333333,
              "#9c179e"
             ],
             [
              0.4444444444444444,
              "#bd3786"
             ],
             [
              0.5555555555555556,
              "#d8576b"
             ],
             [
              0.6666666666666666,
              "#ed7953"
             ],
             [
              0.7777777777777778,
              "#fb9f3a"
             ],
             [
              0.8888888888888888,
              "#fdca26"
             ],
             [
              1.0,
              "#f0f921"
             ]
            ],
            "type": "surface"
           }
          ],
          "table": [
           {
            "cells": {
             "fill": {
              "color": "#EBF0F8"
             },
             "line": {
              "color": "white"
             }
            },
            "header": {
             "fill": {
              "color": "#C8D4E3"
             },
             "line": {
              "color": "white"
             }
            },
            "type": "table"
           }
          ]
         },
         "layout": {
          "annotationdefaults": {
           "arrowcolor": "#2a3f5f",
           "arrowhead": 0,
           "arrowwidth": 1
          },
          "autotypenumbers": "strict",
          "coloraxis": {
           "colorbar": {
            "outlinewidth": 0,
            "ticks": ""
           }
          },
          "colorscale": {
           "diverging": [
            [
             0,
             "#8e0152"
            ],
            [
             0.1,
             "#c51b7d"
            ],
            [
             0.2,
             "#de77ae"
            ],
            [
             0.3,
             "#f1b6da"
            ],
            [
             0.4,
             "#fde0ef"
            ],
            [
             0.5,
             "#f7f7f7"
            ],
            [
             0.6,
             "#e6f5d0"
            ],
            [
             0.7,
             "#b8e186"
            ],
            [
             0.8,
             "#7fbc41"
            ],
            [
             0.9,
             "#4d9221"
            ],
            [
             1,
             "#276419"
            ]
           ],
           "sequential": [
            [
             0.0,
             "#0d0887"
            ],
            [
             0.1111111111111111,
             "#46039f"
            ],
            [
             0.2222222222222222,
             "#7201a8"
            ],
            [
             0.3333333333333333,
             "#9c179e"
            ],
            [
             0.4444444444444444,
             "#bd3786"
            ],
            [
             0.5555555555555556,
             "#d8576b"
            ],
            [
             0.6666666666666666,
             "#ed7953"
            ],
            [
             0.7777777777777778,
             "#fb9f3a"
            ],
            [
             0.8888888888888888,
             "#fdca26"
            ],
            [
             1.0,
             "#f0f921"
            ]
           ],
           "sequentialminus": [
            [
             0.0,
             "#0d0887"
            ],
            [
             0.1111111111111111,
             "#46039f"
            ],
            [
             0.2222222222222222,
             "#7201a8"
            ],
            [
             0.3333333333333333,
             "#9c179e"
            ],
            [
             0.4444444444444444,
             "#bd3786"
            ],
            [
             0.5555555555555556,
             "#d8576b"
            ],
            [
             0.6666666666666666,
             "#ed7953"
            ],
            [
             0.7777777777777778,
             "#fb9f3a"
            ],
            [
             0.8888888888888888,
             "#fdca26"
            ],
            [
             1.0,
             "#f0f921"
            ]
           ]
          },
          "colorway": [
           "#636efa",
           "#EF553B",
           "#00cc96",
           "#ab63fa",
           "#FFA15A",
           "#19d3f3",
           "#FF6692",
           "#B6E880",
           "#FF97FF",
           "#FECB52"
          ],
          "font": {
           "color": "#2a3f5f"
          },
          "geo": {
           "bgcolor": "white",
           "lakecolor": "white",
           "landcolor": "#E5ECF6",
           "showlakes": true,
           "showland": true,
           "subunitcolor": "white"
          },
          "hoverlabel": {
           "align": "left"
          },
          "hovermode": "closest",
          "mapbox": {
           "style": "light"
          },
          "paper_bgcolor": "white",
          "plot_bgcolor": "#E5ECF6",
          "polar": {
           "angularaxis": {
            "gridcolor": "white",
            "linecolor": "white",
            "ticks": ""
           },
           "bgcolor": "#E5ECF6",
           "radialaxis": {
            "gridcolor": "white",
            "linecolor": "white",
            "ticks": ""
           }
          },
          "scene": {
           "xaxis": {
            "backgroundcolor": "#E5ECF6",
            "gridcolor": "white",
            "gridwidth": 2,
            "linecolor": "white",
            "showbackground": true,
            "ticks": "",
            "zerolinecolor": "white"
           },
           "yaxis": {
            "backgroundcolor": "#E5ECF6",
            "gridcolor": "white",
            "gridwidth": 2,
            "linecolor": "white",
            "showbackground": true,
            "ticks": "",
            "zerolinecolor": "white"
           },
           "zaxis": {
            "backgroundcolor": "#E5ECF6",
            "gridcolor": "white",
            "gridwidth": 2,
            "linecolor": "white",
            "showbackground": true,
            "ticks": "",
            "zerolinecolor": "white"
           }
          },
          "shapedefaults": {
           "line": {
            "color": "#2a3f5f"
           }
          },
          "ternary": {
           "aaxis": {
            "gridcolor": "white",
            "linecolor": "white",
            "ticks": ""
           },
           "baxis": {
            "gridcolor": "white",
            "linecolor": "white",
            "ticks": ""
           },
           "bgcolor": "#E5ECF6",
           "caxis": {
            "gridcolor": "white",
            "linecolor": "white",
            "ticks": ""
           }
          },
          "title": {
           "x": 0.05
          },
          "xaxis": {
           "automargin": true,
           "gridcolor": "white",
           "linecolor": "white",
           "ticks": "",
           "title": {
            "standoff": 15
           },
           "zerolinecolor": "white",
           "zerolinewidth": 2
          },
          "yaxis": {
           "automargin": true,
           "gridcolor": "white",
           "linecolor": "white",
           "ticks": "",
           "title": {
            "standoff": 15
           },
           "zerolinecolor": "white",
           "zerolinewidth": 2
          }
         }
        },
        "xaxis": {
         "anchor": "y",
         "domain": [
          0.0,
          1.0
         ],
         "title": {
          "text": "Tag"
         }
        },
        "yaxis": {
         "anchor": "x",
         "domain": [
          0.0,
          1.0
         ],
         "title": {
          "text": "sum of Occurences"
         }
        },
        "legend": {
         "tracegroupgap": 0
        },
        "margin": {
         "t": 60
        },
        "barmode": "relative"
       },
       "config": {
        "plotlyServerURL": "https://plot.ly"
       }
      },
      "text/html": "<div>                            <div id=\"462ef320-0d9b-4550-8c39-c0f9038e9a04\" class=\"plotly-graph-div\" style=\"height:525px; width:100%;\"></div>            <script type=\"text/javascript\">                require([\"plotly\"], function(Plotly) {                    window.PLOTLYENV=window.PLOTLYENV || {};                                    if (document.getElementById(\"462ef320-0d9b-4550-8c39-c0f9038e9a04\")) {                    Plotly.newPlot(                        \"462ef320-0d9b-4550-8c39-c0f9038e9a04\",                        [{\"alignmentgroup\":\"True\",\"bingroup\":\"x\",\"histfunc\":\"sum\",\"hovertemplate\":\"Tag=%{x}<br>sum of Occurences=%{y}<extra></extra>\",\"legendgroup\":\"\",\"marker\":{\"color\":\"#636efa\",\"pattern\":{\"shape\":\"\"}},\"name\":\"\",\"offsetgroup\":\"\",\"orientation\":\"v\",\"showlegend\":false,\"x\":[\"android\",\"firebase\",\"firebase-authentication\",\"firebase-realtime-database\",\"flutter\",\"google-cloud-firestore\",\"java\",\"javascript\",\"python\",\"reactjs\"],\"xaxis\":\"x\",\"y\":[1376,2338,537,846,761,1291,827,1879,957,785],\"yaxis\":\"y\",\"type\":\"histogram\"}],                        {\"template\":{\"data\":{\"bar\":[{\"error_x\":{\"color\":\"#2a3f5f\"},\"error_y\":{\"color\":\"#2a3f5f\"},\"marker\":{\"line\":{\"color\":\"#E5ECF6\",\"width\":0.5},\"pattern\":{\"fillmode\":\"overlay\",\"size\":10,\"solidity\":0.2}},\"type\":\"bar\"}],\"barpolar\":[{\"marker\":{\"line\":{\"color\":\"#E5ECF6\",\"width\":0.5},\"pattern\":{\"fillmode\":\"overlay\",\"size\":10,\"solidity\":0.2}},\"type\":\"barpolar\"}],\"carpet\":[{\"aaxis\":{\"endlinecolor\":\"#2a3f5f\",\"gridcolor\":\"white\",\"linecolor\":\"white\",\"minorgridcolor\":\"white\",\"startlinecolor\":\"#2a3f5f\"},\"baxis\":{\"endlinecolor\":\"#2a3f5f\",\"gridcolor\":\"white\",\"linecolor\":\"white\",\"minorgridcolor\":\"white\",\"startlinecolor\":\"#2a3f5f\"},\"type\":\"carpet\"}],\"choropleth\":[{\"colorbar\":{\"outlinewidth\":0,\"ticks\":\"\"},\"type\":\"choropleth\"}],\"contour\":[{\"colorbar\":{\"outlinewidth\":0,\"ticks\":\"\"},\"colorscale\":[[0.0,\"#0d0887\"],[0.1111111111111111,\"#46039f\"],[0.2222222222222222,\"#7201a8\"],[0.3333333333333333,\"#9c179e\"],[0.4444444444444444,\"#bd3786\"],[0.5555555555555556,\"#d8576b\"],[0.6666666666666666,\"#ed7953\"],[0.7777777777777778,\"#fb9f3a\"],[0.8888888888888888,\"#fdca26\"],[1.0,\"#f0f921\"]],\"type\":\"contour\"}],\"contourcarpet\":[{\"colorbar\":{\"outlinewidth\":0,\"ticks\":\"\"},\"type\":\"contourcarpet\"}],\"heatmap\":[{\"colorbar\":{\"outlinewidth\":0,\"ticks\":\"\"},\"colorscale\":[[0.0,\"#0d0887\"],[0.1111111111111111,\"#46039f\"],[0.2222222222222222,\"#7201a8\"],[0.3333333333333333,\"#9c179e\"],[0.4444444444444444,\"#bd3786\"],[0.5555555555555556,\"#d8576b\"],[0.6666666666666666,\"#ed7953\"],[0.7777777777777778,\"#fb9f3a\"],[0.8888888888888888,\"#fdca26\"],[1.0,\"#f0f921\"]],\"type\":\"heatmap\"}],\"heatmapgl\":[{\"colorbar\":{\"outlinewidth\":0,\"ticks\":\"\"},\"colorscale\":[[0.0,\"#0d0887\"],[0.1111111111111111,\"#46039f\"],[0.2222222222222222,\"#7201a8\"],[0.3333333333333333,\"#9c179e\"],[0.4444444444444444,\"#bd3786\"],[0.5555555555555556,\"#d8576b\"],[0.6666666666666666,\"#ed7953\"],[0.7777777777777778,\"#fb9f3a\"],[0.8888888888888888,\"#fdca26\"],[1.0,\"#f0f921\"]],\"type\":\"heatmapgl\"}],\"histogram\":[{\"marker\":{\"pattern\":{\"fillmode\":\"overlay\",\"size\":10,\"solidity\":0.2}},\"type\":\"histogram\"}],\"histogram2d\":[{\"colorbar\":{\"outlinewidth\":0,\"ticks\":\"\"},\"colorscale\":[[0.0,\"#0d0887\"],[0.1111111111111111,\"#46039f\"],[0.2222222222222222,\"#7201a8\"],[0.3333333333333333,\"#9c179e\"],[0.4444444444444444,\"#bd3786\"],[0.5555555555555556,\"#d8576b\"],[0.6666666666666666,\"#ed7953\"],[0.7777777777777778,\"#fb9f3a\"],[0.8888888888888888,\"#fdca26\"],[1.0,\"#f0f921\"]],\"type\":\"histogram2d\"}],\"histogram2dcontour\":[{\"colorbar\":{\"outlinewidth\":0,\"ticks\":\"\"},\"colorscale\":[[0.0,\"#0d0887\"],[0.1111111111111111,\"#46039f\"],[0.2222222222222222,\"#7201a8\"],[0.3333333333333333,\"#9c179e\"],[0.4444444444444444,\"#bd3786\"],[0.5555555555555556,\"#d8576b\"],[0.6666666666666666,\"#ed7953\"],[0.7777777777777778,\"#fb9f3a\"],[0.8888888888888888,\"#fdca26\"],[1.0,\"#f0f921\"]],\"type\":\"histogram2dcontour\"}],\"mesh3d\":[{\"colorbar\":{\"outlinewidth\":0,\"ticks\":\"\"},\"type\":\"mesh3d\"}],\"parcoords\":[{\"line\":{\"colorbar\":{\"outlinewidth\":0,\"ticks\":\"\"}},\"type\":\"parcoords\"}],\"pie\":[{\"automargin\":true,\"type\":\"pie\"}],\"scatter\":[{\"marker\":{\"colorbar\":{\"outlinewidth\":0,\"ticks\":\"\"}},\"type\":\"scatter\"}],\"scatter3d\":[{\"line\":{\"colorbar\":{\"outlinewidth\":0,\"ticks\":\"\"}},\"marker\":{\"colorbar\":{\"outlinewidth\":0,\"ticks\":\"\"}},\"type\":\"scatter3d\"}],\"scattercarpet\":[{\"marker\":{\"colorbar\":{\"outlinewidth\":0,\"ticks\":\"\"}},\"type\":\"scattercarpet\"}],\"scattergeo\":[{\"marker\":{\"colorbar\":{\"outlinewidth\":0,\"ticks\":\"\"}},\"type\":\"scattergeo\"}],\"scattergl\":[{\"marker\":{\"colorbar\":{\"outlinewidth\":0,\"ticks\":\"\"}},\"type\":\"scattergl\"}],\"scattermapbox\":[{\"marker\":{\"colorbar\":{\"outlinewidth\":0,\"ticks\":\"\"}},\"type\":\"scattermapbox\"}],\"scatterpolar\":[{\"marker\":{\"colorbar\":{\"outlinewidth\":0,\"ticks\":\"\"}},\"type\":\"scatterpolar\"}],\"scatterpolargl\":[{\"marker\":{\"colorbar\":{\"outlinewidth\":0,\"ticks\":\"\"}},\"type\":\"scatterpolargl\"}],\"scatterternary\":[{\"marker\":{\"colorbar\":{\"outlinewidth\":0,\"ticks\":\"\"}},\"type\":\"scatterternary\"}],\"surface\":[{\"colorbar\":{\"outlinewidth\":0,\"ticks\":\"\"},\"colorscale\":[[0.0,\"#0d0887\"],[0.1111111111111111,\"#46039f\"],[0.2222222222222222,\"#7201a8\"],[0.3333333333333333,\"#9c179e\"],[0.4444444444444444,\"#bd3786\"],[0.5555555555555556,\"#d8576b\"],[0.6666666666666666,\"#ed7953\"],[0.7777777777777778,\"#fb9f3a\"],[0.8888888888888888,\"#fdca26\"],[1.0,\"#f0f921\"]],\"type\":\"surface\"}],\"table\":[{\"cells\":{\"fill\":{\"color\":\"#EBF0F8\"},\"line\":{\"color\":\"white\"}},\"header\":{\"fill\":{\"color\":\"#C8D4E3\"},\"line\":{\"color\":\"white\"}},\"type\":\"table\"}]},\"layout\":{\"annotationdefaults\":{\"arrowcolor\":\"#2a3f5f\",\"arrowhead\":0,\"arrowwidth\":1},\"autotypenumbers\":\"strict\",\"coloraxis\":{\"colorbar\":{\"outlinewidth\":0,\"ticks\":\"\"}},\"colorscale\":{\"diverging\":[[0,\"#8e0152\"],[0.1,\"#c51b7d\"],[0.2,\"#de77ae\"],[0.3,\"#f1b6da\"],[0.4,\"#fde0ef\"],[0.5,\"#f7f7f7\"],[0.6,\"#e6f5d0\"],[0.7,\"#b8e186\"],[0.8,\"#7fbc41\"],[0.9,\"#4d9221\"],[1,\"#276419\"]],\"sequential\":[[0.0,\"#0d0887\"],[0.1111111111111111,\"#46039f\"],[0.2222222222222222,\"#7201a8\"],[0.3333333333333333,\"#9c179e\"],[0.4444444444444444,\"#bd3786\"],[0.5555555555555556,\"#d8576b\"],[0.6666666666666666,\"#ed7953\"],[0.7777777777777778,\"#fb9f3a\"],[0.8888888888888888,\"#fdca26\"],[1.0,\"#f0f921\"]],\"sequentialminus\":[[0.0,\"#0d0887\"],[0.1111111111111111,\"#46039f\"],[0.2222222222222222,\"#7201a8\"],[0.3333333333333333,\"#9c179e\"],[0.4444444444444444,\"#bd3786\"],[0.5555555555555556,\"#d8576b\"],[0.6666666666666666,\"#ed7953\"],[0.7777777777777778,\"#fb9f3a\"],[0.8888888888888888,\"#fdca26\"],[1.0,\"#f0f921\"]]},\"colorway\":[\"#636efa\",\"#EF553B\",\"#00cc96\",\"#ab63fa\",\"#FFA15A\",\"#19d3f3\",\"#FF6692\",\"#B6E880\",\"#FF97FF\",\"#FECB52\"],\"font\":{\"color\":\"#2a3f5f\"},\"geo\":{\"bgcolor\":\"white\",\"lakecolor\":\"white\",\"landcolor\":\"#E5ECF6\",\"showlakes\":true,\"showland\":true,\"subunitcolor\":\"white\"},\"hoverlabel\":{\"align\":\"left\"},\"hovermode\":\"closest\",\"mapbox\":{\"style\":\"light\"},\"paper_bgcolor\":\"white\",\"plot_bgcolor\":\"#E5ECF6\",\"polar\":{\"angularaxis\":{\"gridcolor\":\"white\",\"linecolor\":\"white\",\"ticks\":\"\"},\"bgcolor\":\"#E5ECF6\",\"radialaxis\":{\"gridcolor\":\"white\",\"linecolor\":\"white\",\"ticks\":\"\"}},\"scene\":{\"xaxis\":{\"backgroundcolor\":\"#E5ECF6\",\"gridcolor\":\"white\",\"gridwidth\":2,\"linecolor\":\"white\",\"showbackground\":true,\"ticks\":\"\",\"zerolinecolor\":\"white\"},\"yaxis\":{\"backgroundcolor\":\"#E5ECF6\",\"gridcolor\":\"white\",\"gridwidth\":2,\"linecolor\":\"white\",\"showbackground\":true,\"ticks\":\"\",\"zerolinecolor\":\"white\"},\"zaxis\":{\"backgroundcolor\":\"#E5ECF6\",\"gridcolor\":\"white\",\"gridwidth\":2,\"linecolor\":\"white\",\"showbackground\":true,\"ticks\":\"\",\"zerolinecolor\":\"white\"}},\"shapedefaults\":{\"line\":{\"color\":\"#2a3f5f\"}},\"ternary\":{\"aaxis\":{\"gridcolor\":\"white\",\"linecolor\":\"white\",\"ticks\":\"\"},\"baxis\":{\"gridcolor\":\"white\",\"linecolor\":\"white\",\"ticks\":\"\"},\"bgcolor\":\"#E5ECF6\",\"caxis\":{\"gridcolor\":\"white\",\"linecolor\":\"white\",\"ticks\":\"\"}},\"title\":{\"x\":0.05},\"xaxis\":{\"automargin\":true,\"gridcolor\":\"white\",\"linecolor\":\"white\",\"ticks\":\"\",\"title\":{\"standoff\":15},\"zerolinecolor\":\"white\",\"zerolinewidth\":2},\"yaxis\":{\"automargin\":true,\"gridcolor\":\"white\",\"linecolor\":\"white\",\"ticks\":\"\",\"title\":{\"standoff\":15},\"zerolinecolor\":\"white\",\"zerolinewidth\":2}}},\"xaxis\":{\"anchor\":\"y\",\"domain\":[0.0,1.0],\"title\":{\"text\":\"Tag\"}},\"yaxis\":{\"anchor\":\"x\",\"domain\":[0.0,1.0],\"title\":{\"text\":\"sum of Occurences\"}},\"legend\":{\"tracegroupgap\":0},\"margin\":{\"t\":60},\"barmode\":\"relative\"},                        {\"responsive\": true}                    ).then(function(){\n                            \nvar gd = document.getElementById('462ef320-0d9b-4550-8c39-c0f9038e9a04');\nvar x = new MutationObserver(function (mutations, observer) {{\n        var display = window.getComputedStyle(gd).display;\n        if (!display || display === 'none') {{\n            console.log([gd, 'removed!']);\n            Plotly.purge(gd);\n            observer.disconnect();\n        }}\n}});\n\n// Listen for the removal of the full notebook cells\nvar notebookContainer = gd.closest('#notebook-container');\nif (notebookContainer) {{\n    x.observe(notebookContainer, {childList: true});\n}}\n\n// Listen for the clearing of the current output cell\nvar outputEl = gd.closest('.output');\nif (outputEl) {{\n    x.observe(outputEl, {childList: true});\n}}\n\n                        })                };                });            </script>        </div>"
     },
     "metadata": {},
     "output_type": "display_data"
    }
   ],
   "source": [
    "fig = px.histogram(df[df[\"Occurences\"] > 500], x=\"Tag\", y=\"Occurences\")\n",
    "fig.show()"
   ],
   "metadata": {
    "collapsed": false,
    "pycharm": {
     "name": "#%%\n"
    }
   }
  },
  {
   "cell_type": "code",
   "execution_count": 180,
   "outputs": [],
   "source": [
    "title_data =  data.Title"
   ],
   "metadata": {
    "collapsed": false,
    "pycharm": {
     "name": "#%%\n"
    }
   }
  },
  {
   "cell_type": "code",
   "execution_count": 181,
   "outputs": [],
   "source": [
    "title_data.to_csv('pandas.txt', header=None, index=None, sep=' ', mode='a')"
   ],
   "metadata": {
    "collapsed": false,
    "pycharm": {
     "name": "#%%\n"
    }
   }
  },
  {
   "cell_type": "code",
   "execution_count": 182,
   "outputs": [
    {
     "name": "stderr",
     "output_type": "stream",
     "text": [
      "[nltk_data] Downloading package stopwords to\n",
      "[nltk_data]     C:\\Users\\diais\\AppData\\Roaming\\nltk_data...\n",
      "[nltk_data]   Package stopwords is already up-to-date!\n",
      "[nltk_data] Downloading package punkt to\n",
      "[nltk_data]     C:\\Users\\diais\\AppData\\Roaming\\nltk_data...\n",
      "[nltk_data]   Package punkt is already up-to-date!\n",
      "[nltk_data] Downloading package averaged_perceptron_tagger to\n",
      "[nltk_data]     C:\\Users\\diais\\AppData\\Roaming\\nltk_data...\n",
      "[nltk_data]   Package averaged_perceptron_tagger is already up-to-\n",
      "[nltk_data]       date!\n"
     ]
    }
   ],
   "source": [
    "import nltk\n",
    "from nltk.tokenize import word_tokenize\n",
    "from nltk.corpus import stopwords\n",
    "nltk.download('stopwords')\n",
    "\n",
    "nltk.download('punkt')\n",
    "nltk.download('averaged_perceptron_tagger')\n",
    "\n",
    "raw = open('pandas.txt','r', encoding='utf-8').read()\n",
    "tokens = nltk.word_tokenize(raw)\n",
    "text = nltk.Text(tokens)\n",
    "stopWords = set(stopwords.words('english'))\n",
    "\n",
    "words = word_tokenize(raw)\n",
    "new_words= [word for word in words if word.isalnum()]\n",
    "wordsFiltered = []\n",
    "for w in new_words:\n",
    "    if w not in stopWords:\n",
    "        wordsFiltered.append(w)\n",
    "\n",
    "\n",
    "\n",
    "\n",
    "tokens_l = [w.lower() for w in tokens]\n",
    "\n",
    "freq = nltk.FreqDist(wordsFiltered)\n",
    "import os\n",
    "os.remove('pandas.txt')"
   ],
   "metadata": {
    "collapsed": false,
    "pycharm": {
     "name": "#%%\n"
    }
   }
  },
  {
   "cell_type": "code",
   "execution_count": 183,
   "outputs": [
    {
     "data": {
      "text/plain": "                    Word  Occurences\n0            documentRef           1\n1                  valid          10\n2      DocumentReference           4\n3                showing          80\n4                  Error         189\n...                  ...         ...\n12601       ObjectResult           1\n12602             Yellow           1\n12603              Yield           1\n12604            receipe           1\n12605      PACKAGECONFIG           1\n\n[12606 rows x 2 columns]",
      "text/html": "<div>\n<style scoped>\n    .dataframe tbody tr th:only-of-type {\n        vertical-align: middle;\n    }\n\n    .dataframe tbody tr th {\n        vertical-align: top;\n    }\n\n    .dataframe thead th {\n        text-align: right;\n    }\n</style>\n<table border=\"1\" class=\"dataframe\">\n  <thead>\n    <tr style=\"text-align: right;\">\n      <th></th>\n      <th>Word</th>\n      <th>Occurences</th>\n    </tr>\n  </thead>\n  <tbody>\n    <tr>\n      <th>0</th>\n      <td>documentRef</td>\n      <td>1</td>\n    </tr>\n    <tr>\n      <th>1</th>\n      <td>valid</td>\n      <td>10</td>\n    </tr>\n    <tr>\n      <th>2</th>\n      <td>DocumentReference</td>\n      <td>4</td>\n    </tr>\n    <tr>\n      <th>3</th>\n      <td>showing</td>\n      <td>80</td>\n    </tr>\n    <tr>\n      <th>4</th>\n      <td>Error</td>\n      <td>189</td>\n    </tr>\n    <tr>\n      <th>...</th>\n      <td>...</td>\n      <td>...</td>\n    </tr>\n    <tr>\n      <th>12601</th>\n      <td>ObjectResult</td>\n      <td>1</td>\n    </tr>\n    <tr>\n      <th>12602</th>\n      <td>Yellow</td>\n      <td>1</td>\n    </tr>\n    <tr>\n      <th>12603</th>\n      <td>Yield</td>\n      <td>1</td>\n    </tr>\n    <tr>\n      <th>12604</th>\n      <td>receipe</td>\n      <td>1</td>\n    </tr>\n    <tr>\n      <th>12605</th>\n      <td>PACKAGECONFIG</td>\n      <td>1</td>\n    </tr>\n  </tbody>\n</table>\n<p>12606 rows × 2 columns</p>\n</div>"
     },
     "execution_count": 183,
     "metadata": {},
     "output_type": "execute_result"
    }
   ],
   "source": [
    "df_fdist = pd.DataFrame(list(freq.items()), columns=['Word', 'Occurences'])\n",
    "df_fdist"
   ],
   "metadata": {
    "collapsed": false,
    "pycharm": {
     "name": "#%%\n"
    }
   }
  },
  {
   "cell_type": "code",
   "execution_count": 184,
   "outputs": [
    {
     "data": {
      "application/vnd.plotly.v1+json": {
       "data": [
        {
         "alignmentgroup": "True",
         "bingroup": "x",
         "histfunc": "sum",
         "hovertemplate": "Word=%{x}<br>sum of Occurences=%{y}<extra></extra>",
         "legendgroup": "",
         "marker": {
          "color": "#636efa",
          "pattern": {
           "shape": ""
          }
         },
         "name": "",
         "offsetgroup": "",
         "orientation": "v",
         "showlegend": false,
         "x": [
          "Flutter",
          "Firebase",
          "Firestore",
          "using",
          "file",
          "value",
          "error",
          "How",
          "function",
          "app",
          "Android",
          "user",
          "use",
          "data",
          "React",
          "firebase",
          "I",
          "get",
          "database"
         ],
         "xaxis": "x",
         "y": [
          273,
          1200,
          354,
          892,
          364,
          293,
          420,
          2478,
          337,
          373,
          360,
          305,
          325,
          735,
          283,
          787,
          781,
          427,
          308
         ],
         "yaxis": "y",
         "type": "histogram"
        }
       ],
       "layout": {
        "template": {
         "data": {
          "bar": [
           {
            "error_x": {
             "color": "#2a3f5f"
            },
            "error_y": {
             "color": "#2a3f5f"
            },
            "marker": {
             "line": {
              "color": "#E5ECF6",
              "width": 0.5
             },
             "pattern": {
              "fillmode": "overlay",
              "size": 10,
              "solidity": 0.2
             }
            },
            "type": "bar"
           }
          ],
          "barpolar": [
           {
            "marker": {
             "line": {
              "color": "#E5ECF6",
              "width": 0.5
             },
             "pattern": {
              "fillmode": "overlay",
              "size": 10,
              "solidity": 0.2
             }
            },
            "type": "barpolar"
           }
          ],
          "carpet": [
           {
            "aaxis": {
             "endlinecolor": "#2a3f5f",
             "gridcolor": "white",
             "linecolor": "white",
             "minorgridcolor": "white",
             "startlinecolor": "#2a3f5f"
            },
            "baxis": {
             "endlinecolor": "#2a3f5f",
             "gridcolor": "white",
             "linecolor": "white",
             "minorgridcolor": "white",
             "startlinecolor": "#2a3f5f"
            },
            "type": "carpet"
           }
          ],
          "choropleth": [
           {
            "colorbar": {
             "outlinewidth": 0,
             "ticks": ""
            },
            "type": "choropleth"
           }
          ],
          "contour": [
           {
            "colorbar": {
             "outlinewidth": 0,
             "ticks": ""
            },
            "colorscale": [
             [
              0.0,
              "#0d0887"
             ],
             [
              0.1111111111111111,
              "#46039f"
             ],
             [
              0.2222222222222222,
              "#7201a8"
             ],
             [
              0.3333333333333333,
              "#9c179e"
             ],
             [
              0.4444444444444444,
              "#bd3786"
             ],
             [
              0.5555555555555556,
              "#d8576b"
             ],
             [
              0.6666666666666666,
              "#ed7953"
             ],
             [
              0.7777777777777778,
              "#fb9f3a"
             ],
             [
              0.8888888888888888,
              "#fdca26"
             ],
             [
              1.0,
              "#f0f921"
             ]
            ],
            "type": "contour"
           }
          ],
          "contourcarpet": [
           {
            "colorbar": {
             "outlinewidth": 0,
             "ticks": ""
            },
            "type": "contourcarpet"
           }
          ],
          "heatmap": [
           {
            "colorbar": {
             "outlinewidth": 0,
             "ticks": ""
            },
            "colorscale": [
             [
              0.0,
              "#0d0887"
             ],
             [
              0.1111111111111111,
              "#46039f"
             ],
             [
              0.2222222222222222,
              "#7201a8"
             ],
             [
              0.3333333333333333,
              "#9c179e"
             ],
             [
              0.4444444444444444,
              "#bd3786"
             ],
             [
              0.5555555555555556,
              "#d8576b"
             ],
             [
              0.6666666666666666,
              "#ed7953"
             ],
             [
              0.7777777777777778,
              "#fb9f3a"
             ],
             [
              0.8888888888888888,
              "#fdca26"
             ],
             [
              1.0,
              "#f0f921"
             ]
            ],
            "type": "heatmap"
           }
          ],
          "heatmapgl": [
           {
            "colorbar": {
             "outlinewidth": 0,
             "ticks": ""
            },
            "colorscale": [
             [
              0.0,
              "#0d0887"
             ],
             [
              0.1111111111111111,
              "#46039f"
             ],
             [
              0.2222222222222222,
              "#7201a8"
             ],
             [
              0.3333333333333333,
              "#9c179e"
             ],
             [
              0.4444444444444444,
              "#bd3786"
             ],
             [
              0.5555555555555556,
              "#d8576b"
             ],
             [
              0.6666666666666666,
              "#ed7953"
             ],
             [
              0.7777777777777778,
              "#fb9f3a"
             ],
             [
              0.8888888888888888,
              "#fdca26"
             ],
             [
              1.0,
              "#f0f921"
             ]
            ],
            "type": "heatmapgl"
           }
          ],
          "histogram": [
           {
            "marker": {
             "pattern": {
              "fillmode": "overlay",
              "size": 10,
              "solidity": 0.2
             }
            },
            "type": "histogram"
           }
          ],
          "histogram2d": [
           {
            "colorbar": {
             "outlinewidth": 0,
             "ticks": ""
            },
            "colorscale": [
             [
              0.0,
              "#0d0887"
             ],
             [
              0.1111111111111111,
              "#46039f"
             ],
             [
              0.2222222222222222,
              "#7201a8"
             ],
             [
              0.3333333333333333,
              "#9c179e"
             ],
             [
              0.4444444444444444,
              "#bd3786"
             ],
             [
              0.5555555555555556,
              "#d8576b"
             ],
             [
              0.6666666666666666,
              "#ed7953"
             ],
             [
              0.7777777777777778,
              "#fb9f3a"
             ],
             [
              0.8888888888888888,
              "#fdca26"
             ],
             [
              1.0,
              "#f0f921"
             ]
            ],
            "type": "histogram2d"
           }
          ],
          "histogram2dcontour": [
           {
            "colorbar": {
             "outlinewidth": 0,
             "ticks": ""
            },
            "colorscale": [
             [
              0.0,
              "#0d0887"
             ],
             [
              0.1111111111111111,
              "#46039f"
             ],
             [
              0.2222222222222222,
              "#7201a8"
             ],
             [
              0.3333333333333333,
              "#9c179e"
             ],
             [
              0.4444444444444444,
              "#bd3786"
             ],
             [
              0.5555555555555556,
              "#d8576b"
             ],
             [
              0.6666666666666666,
              "#ed7953"
             ],
             [
              0.7777777777777778,
              "#fb9f3a"
             ],
             [
              0.8888888888888888,
              "#fdca26"
             ],
             [
              1.0,
              "#f0f921"
             ]
            ],
            "type": "histogram2dcontour"
           }
          ],
          "mesh3d": [
           {
            "colorbar": {
             "outlinewidth": 0,
             "ticks": ""
            },
            "type": "mesh3d"
           }
          ],
          "parcoords": [
           {
            "line": {
             "colorbar": {
              "outlinewidth": 0,
              "ticks": ""
             }
            },
            "type": "parcoords"
           }
          ],
          "pie": [
           {
            "automargin": true,
            "type": "pie"
           }
          ],
          "scatter": [
           {
            "marker": {
             "colorbar": {
              "outlinewidth": 0,
              "ticks": ""
             }
            },
            "type": "scatter"
           }
          ],
          "scatter3d": [
           {
            "line": {
             "colorbar": {
              "outlinewidth": 0,
              "ticks": ""
             }
            },
            "marker": {
             "colorbar": {
              "outlinewidth": 0,
              "ticks": ""
             }
            },
            "type": "scatter3d"
           }
          ],
          "scattercarpet": [
           {
            "marker": {
             "colorbar": {
              "outlinewidth": 0,
              "ticks": ""
             }
            },
            "type": "scattercarpet"
           }
          ],
          "scattergeo": [
           {
            "marker": {
             "colorbar": {
              "outlinewidth": 0,
              "ticks": ""
             }
            },
            "type": "scattergeo"
           }
          ],
          "scattergl": [
           {
            "marker": {
             "colorbar": {
              "outlinewidth": 0,
              "ticks": ""
             }
            },
            "type": "scattergl"
           }
          ],
          "scattermapbox": [
           {
            "marker": {
             "colorbar": {
              "outlinewidth": 0,
              "ticks": ""
             }
            },
            "type": "scattermapbox"
           }
          ],
          "scatterpolar": [
           {
            "marker": {
             "colorbar": {
              "outlinewidth": 0,
              "ticks": ""
             }
            },
            "type": "scatterpolar"
           }
          ],
          "scatterpolargl": [
           {
            "marker": {
             "colorbar": {
              "outlinewidth": 0,
              "ticks": ""
             }
            },
            "type": "scatterpolargl"
           }
          ],
          "scatterternary": [
           {
            "marker": {
             "colorbar": {
              "outlinewidth": 0,
              "ticks": ""
             }
            },
            "type": "scatterternary"
           }
          ],
          "surface": [
           {
            "colorbar": {
             "outlinewidth": 0,
             "ticks": ""
            },
            "colorscale": [
             [
              0.0,
              "#0d0887"
             ],
             [
              0.1111111111111111,
              "#46039f"
             ],
             [
              0.2222222222222222,
              "#7201a8"
             ],
             [
              0.3333333333333333,
              "#9c179e"
             ],
             [
              0.4444444444444444,
              "#bd3786"
             ],
             [
              0.5555555555555556,
              "#d8576b"
             ],
             [
              0.6666666666666666,
              "#ed7953"
             ],
             [
              0.7777777777777778,
              "#fb9f3a"
             ],
             [
              0.8888888888888888,
              "#fdca26"
             ],
             [
              1.0,
              "#f0f921"
             ]
            ],
            "type": "surface"
           }
          ],
          "table": [
           {
            "cells": {
             "fill": {
              "color": "#EBF0F8"
             },
             "line": {
              "color": "white"
             }
            },
            "header": {
             "fill": {
              "color": "#C8D4E3"
             },
             "line": {
              "color": "white"
             }
            },
            "type": "table"
           }
          ]
         },
         "layout": {
          "annotationdefaults": {
           "arrowcolor": "#2a3f5f",
           "arrowhead": 0,
           "arrowwidth": 1
          },
          "autotypenumbers": "strict",
          "coloraxis": {
           "colorbar": {
            "outlinewidth": 0,
            "ticks": ""
           }
          },
          "colorscale": {
           "diverging": [
            [
             0,
             "#8e0152"
            ],
            [
             0.1,
             "#c51b7d"
            ],
            [
             0.2,
             "#de77ae"
            ],
            [
             0.3,
             "#f1b6da"
            ],
            [
             0.4,
             "#fde0ef"
            ],
            [
             0.5,
             "#f7f7f7"
            ],
            [
             0.6,
             "#e6f5d0"
            ],
            [
             0.7,
             "#b8e186"
            ],
            [
             0.8,
             "#7fbc41"
            ],
            [
             0.9,
             "#4d9221"
            ],
            [
             1,
             "#276419"
            ]
           ],
           "sequential": [
            [
             0.0,
             "#0d0887"
            ],
            [
             0.1111111111111111,
             "#46039f"
            ],
            [
             0.2222222222222222,
             "#7201a8"
            ],
            [
             0.3333333333333333,
             "#9c179e"
            ],
            [
             0.4444444444444444,
             "#bd3786"
            ],
            [
             0.5555555555555556,
             "#d8576b"
            ],
            [
             0.6666666666666666,
             "#ed7953"
            ],
            [
             0.7777777777777778,
             "#fb9f3a"
            ],
            [
             0.8888888888888888,
             "#fdca26"
            ],
            [
             1.0,
             "#f0f921"
            ]
           ],
           "sequentialminus": [
            [
             0.0,
             "#0d0887"
            ],
            [
             0.1111111111111111,
             "#46039f"
            ],
            [
             0.2222222222222222,
             "#7201a8"
            ],
            [
             0.3333333333333333,
             "#9c179e"
            ],
            [
             0.4444444444444444,
             "#bd3786"
            ],
            [
             0.5555555555555556,
             "#d8576b"
            ],
            [
             0.6666666666666666,
             "#ed7953"
            ],
            [
             0.7777777777777778,
             "#fb9f3a"
            ],
            [
             0.8888888888888888,
             "#fdca26"
            ],
            [
             1.0,
             "#f0f921"
            ]
           ]
          },
          "colorway": [
           "#636efa",
           "#EF553B",
           "#00cc96",
           "#ab63fa",
           "#FFA15A",
           "#19d3f3",
           "#FF6692",
           "#B6E880",
           "#FF97FF",
           "#FECB52"
          ],
          "font": {
           "color": "#2a3f5f"
          },
          "geo": {
           "bgcolor": "white",
           "lakecolor": "white",
           "landcolor": "#E5ECF6",
           "showlakes": true,
           "showland": true,
           "subunitcolor": "white"
          },
          "hoverlabel": {
           "align": "left"
          },
          "hovermode": "closest",
          "mapbox": {
           "style": "light"
          },
          "paper_bgcolor": "white",
          "plot_bgcolor": "#E5ECF6",
          "polar": {
           "angularaxis": {
            "gridcolor": "white",
            "linecolor": "white",
            "ticks": ""
           },
           "bgcolor": "#E5ECF6",
           "radialaxis": {
            "gridcolor": "white",
            "linecolor": "white",
            "ticks": ""
           }
          },
          "scene": {
           "xaxis": {
            "backgroundcolor": "#E5ECF6",
            "gridcolor": "white",
            "gridwidth": 2,
            "linecolor": "white",
            "showbackground": true,
            "ticks": "",
            "zerolinecolor": "white"
           },
           "yaxis": {
            "backgroundcolor": "#E5ECF6",
            "gridcolor": "white",
            "gridwidth": 2,
            "linecolor": "white",
            "showbackground": true,
            "ticks": "",
            "zerolinecolor": "white"
           },
           "zaxis": {
            "backgroundcolor": "#E5ECF6",
            "gridcolor": "white",
            "gridwidth": 2,
            "linecolor": "white",
            "showbackground": true,
            "ticks": "",
            "zerolinecolor": "white"
           }
          },
          "shapedefaults": {
           "line": {
            "color": "#2a3f5f"
           }
          },
          "ternary": {
           "aaxis": {
            "gridcolor": "white",
            "linecolor": "white",
            "ticks": ""
           },
           "baxis": {
            "gridcolor": "white",
            "linecolor": "white",
            "ticks": ""
           },
           "bgcolor": "#E5ECF6",
           "caxis": {
            "gridcolor": "white",
            "linecolor": "white",
            "ticks": ""
           }
          },
          "title": {
           "x": 0.05
          },
          "xaxis": {
           "automargin": true,
           "gridcolor": "white",
           "linecolor": "white",
           "ticks": "",
           "title": {
            "standoff": 15
           },
           "zerolinecolor": "white",
           "zerolinewidth": 2
          },
          "yaxis": {
           "automargin": true,
           "gridcolor": "white",
           "linecolor": "white",
           "ticks": "",
           "title": {
            "standoff": 15
           },
           "zerolinecolor": "white",
           "zerolinewidth": 2
          }
         }
        },
        "xaxis": {
         "anchor": "y",
         "domain": [
          0.0,
          1.0
         ],
         "title": {
          "text": "Word"
         }
        },
        "yaxis": {
         "anchor": "x",
         "domain": [
          0.0,
          1.0
         ],
         "title": {
          "text": "sum of Occurences"
         }
        },
        "legend": {
         "tracegroupgap": 0
        },
        "margin": {
         "t": 60
        },
        "barmode": "relative"
       },
       "config": {
        "plotlyServerURL": "https://plot.ly"
       }
      },
      "text/html": "<div>                            <div id=\"8b97498c-282f-48c4-acf3-40f6de5190c0\" class=\"plotly-graph-div\" style=\"height:525px; width:100%;\"></div>            <script type=\"text/javascript\">                require([\"plotly\"], function(Plotly) {                    window.PLOTLYENV=window.PLOTLYENV || {};                                    if (document.getElementById(\"8b97498c-282f-48c4-acf3-40f6de5190c0\")) {                    Plotly.newPlot(                        \"8b97498c-282f-48c4-acf3-40f6de5190c0\",                        [{\"alignmentgroup\":\"True\",\"bingroup\":\"x\",\"histfunc\":\"sum\",\"hovertemplate\":\"Word=%{x}<br>sum of Occurences=%{y}<extra></extra>\",\"legendgroup\":\"\",\"marker\":{\"color\":\"#636efa\",\"pattern\":{\"shape\":\"\"}},\"name\":\"\",\"offsetgroup\":\"\",\"orientation\":\"v\",\"showlegend\":false,\"x\":[\"Flutter\",\"Firebase\",\"Firestore\",\"using\",\"file\",\"value\",\"error\",\"How\",\"function\",\"app\",\"Android\",\"user\",\"use\",\"data\",\"React\",\"firebase\",\"I\",\"get\",\"database\"],\"xaxis\":\"x\",\"y\":[273,1200,354,892,364,293,420,2478,337,373,360,305,325,735,283,787,781,427,308],\"yaxis\":\"y\",\"type\":\"histogram\"}],                        {\"template\":{\"data\":{\"bar\":[{\"error_x\":{\"color\":\"#2a3f5f\"},\"error_y\":{\"color\":\"#2a3f5f\"},\"marker\":{\"line\":{\"color\":\"#E5ECF6\",\"width\":0.5},\"pattern\":{\"fillmode\":\"overlay\",\"size\":10,\"solidity\":0.2}},\"type\":\"bar\"}],\"barpolar\":[{\"marker\":{\"line\":{\"color\":\"#E5ECF6\",\"width\":0.5},\"pattern\":{\"fillmode\":\"overlay\",\"size\":10,\"solidity\":0.2}},\"type\":\"barpolar\"}],\"carpet\":[{\"aaxis\":{\"endlinecolor\":\"#2a3f5f\",\"gridcolor\":\"white\",\"linecolor\":\"white\",\"minorgridcolor\":\"white\",\"startlinecolor\":\"#2a3f5f\"},\"baxis\":{\"endlinecolor\":\"#2a3f5f\",\"gridcolor\":\"white\",\"linecolor\":\"white\",\"minorgridcolor\":\"white\",\"startlinecolor\":\"#2a3f5f\"},\"type\":\"carpet\"}],\"choropleth\":[{\"colorbar\":{\"outlinewidth\":0,\"ticks\":\"\"},\"type\":\"choropleth\"}],\"contour\":[{\"colorbar\":{\"outlinewidth\":0,\"ticks\":\"\"},\"colorscale\":[[0.0,\"#0d0887\"],[0.1111111111111111,\"#46039f\"],[0.2222222222222222,\"#7201a8\"],[0.3333333333333333,\"#9c179e\"],[0.4444444444444444,\"#bd3786\"],[0.5555555555555556,\"#d8576b\"],[0.6666666666666666,\"#ed7953\"],[0.7777777777777778,\"#fb9f3a\"],[0.8888888888888888,\"#fdca26\"],[1.0,\"#f0f921\"]],\"type\":\"contour\"}],\"contourcarpet\":[{\"colorbar\":{\"outlinewidth\":0,\"ticks\":\"\"},\"type\":\"contourcarpet\"}],\"heatmap\":[{\"colorbar\":{\"outlinewidth\":0,\"ticks\":\"\"},\"colorscale\":[[0.0,\"#0d0887\"],[0.1111111111111111,\"#46039f\"],[0.2222222222222222,\"#7201a8\"],[0.3333333333333333,\"#9c179e\"],[0.4444444444444444,\"#bd3786\"],[0.5555555555555556,\"#d8576b\"],[0.6666666666666666,\"#ed7953\"],[0.7777777777777778,\"#fb9f3a\"],[0.8888888888888888,\"#fdca26\"],[1.0,\"#f0f921\"]],\"type\":\"heatmap\"}],\"heatmapgl\":[{\"colorbar\":{\"outlinewidth\":0,\"ticks\":\"\"},\"colorscale\":[[0.0,\"#0d0887\"],[0.1111111111111111,\"#46039f\"],[0.2222222222222222,\"#7201a8\"],[0.3333333333333333,\"#9c179e\"],[0.4444444444444444,\"#bd3786\"],[0.5555555555555556,\"#d8576b\"],[0.6666666666666666,\"#ed7953\"],[0.7777777777777778,\"#fb9f3a\"],[0.8888888888888888,\"#fdca26\"],[1.0,\"#f0f921\"]],\"type\":\"heatmapgl\"}],\"histogram\":[{\"marker\":{\"pattern\":{\"fillmode\":\"overlay\",\"size\":10,\"solidity\":0.2}},\"type\":\"histogram\"}],\"histogram2d\":[{\"colorbar\":{\"outlinewidth\":0,\"ticks\":\"\"},\"colorscale\":[[0.0,\"#0d0887\"],[0.1111111111111111,\"#46039f\"],[0.2222222222222222,\"#7201a8\"],[0.3333333333333333,\"#9c179e\"],[0.4444444444444444,\"#bd3786\"],[0.5555555555555556,\"#d8576b\"],[0.6666666666666666,\"#ed7953\"],[0.7777777777777778,\"#fb9f3a\"],[0.8888888888888888,\"#fdca26\"],[1.0,\"#f0f921\"]],\"type\":\"histogram2d\"}],\"histogram2dcontour\":[{\"colorbar\":{\"outlinewidth\":0,\"ticks\":\"\"},\"colorscale\":[[0.0,\"#0d0887\"],[0.1111111111111111,\"#46039f\"],[0.2222222222222222,\"#7201a8\"],[0.3333333333333333,\"#9c179e\"],[0.4444444444444444,\"#bd3786\"],[0.5555555555555556,\"#d8576b\"],[0.6666666666666666,\"#ed7953\"],[0.7777777777777778,\"#fb9f3a\"],[0.8888888888888888,\"#fdca26\"],[1.0,\"#f0f921\"]],\"type\":\"histogram2dcontour\"}],\"mesh3d\":[{\"colorbar\":{\"outlinewidth\":0,\"ticks\":\"\"},\"type\":\"mesh3d\"}],\"parcoords\":[{\"line\":{\"colorbar\":{\"outlinewidth\":0,\"ticks\":\"\"}},\"type\":\"parcoords\"}],\"pie\":[{\"automargin\":true,\"type\":\"pie\"}],\"scatter\":[{\"marker\":{\"colorbar\":{\"outlinewidth\":0,\"ticks\":\"\"}},\"type\":\"scatter\"}],\"scatter3d\":[{\"line\":{\"colorbar\":{\"outlinewidth\":0,\"ticks\":\"\"}},\"marker\":{\"colorbar\":{\"outlinewidth\":0,\"ticks\":\"\"}},\"type\":\"scatter3d\"}],\"scattercarpet\":[{\"marker\":{\"colorbar\":{\"outlinewidth\":0,\"ticks\":\"\"}},\"type\":\"scattercarpet\"}],\"scattergeo\":[{\"marker\":{\"colorbar\":{\"outlinewidth\":0,\"ticks\":\"\"}},\"type\":\"scattergeo\"}],\"scattergl\":[{\"marker\":{\"colorbar\":{\"outlinewidth\":0,\"ticks\":\"\"}},\"type\":\"scattergl\"}],\"scattermapbox\":[{\"marker\":{\"colorbar\":{\"outlinewidth\":0,\"ticks\":\"\"}},\"type\":\"scattermapbox\"}],\"scatterpolar\":[{\"marker\":{\"colorbar\":{\"outlinewidth\":0,\"ticks\":\"\"}},\"type\":\"scatterpolar\"}],\"scatterpolargl\":[{\"marker\":{\"colorbar\":{\"outlinewidth\":0,\"ticks\":\"\"}},\"type\":\"scatterpolargl\"}],\"scatterternary\":[{\"marker\":{\"colorbar\":{\"outlinewidth\":0,\"ticks\":\"\"}},\"type\":\"scatterternary\"}],\"surface\":[{\"colorbar\":{\"outlinewidth\":0,\"ticks\":\"\"},\"colorscale\":[[0.0,\"#0d0887\"],[0.1111111111111111,\"#46039f\"],[0.2222222222222222,\"#7201a8\"],[0.3333333333333333,\"#9c179e\"],[0.4444444444444444,\"#bd3786\"],[0.5555555555555556,\"#d8576b\"],[0.6666666666666666,\"#ed7953\"],[0.7777777777777778,\"#fb9f3a\"],[0.8888888888888888,\"#fdca26\"],[1.0,\"#f0f921\"]],\"type\":\"surface\"}],\"table\":[{\"cells\":{\"fill\":{\"color\":\"#EBF0F8\"},\"line\":{\"color\":\"white\"}},\"header\":{\"fill\":{\"color\":\"#C8D4E3\"},\"line\":{\"color\":\"white\"}},\"type\":\"table\"}]},\"layout\":{\"annotationdefaults\":{\"arrowcolor\":\"#2a3f5f\",\"arrowhead\":0,\"arrowwidth\":1},\"autotypenumbers\":\"strict\",\"coloraxis\":{\"colorbar\":{\"outlinewidth\":0,\"ticks\":\"\"}},\"colorscale\":{\"diverging\":[[0,\"#8e0152\"],[0.1,\"#c51b7d\"],[0.2,\"#de77ae\"],[0.3,\"#f1b6da\"],[0.4,\"#fde0ef\"],[0.5,\"#f7f7f7\"],[0.6,\"#e6f5d0\"],[0.7,\"#b8e186\"],[0.8,\"#7fbc41\"],[0.9,\"#4d9221\"],[1,\"#276419\"]],\"sequential\":[[0.0,\"#0d0887\"],[0.1111111111111111,\"#46039f\"],[0.2222222222222222,\"#7201a8\"],[0.3333333333333333,\"#9c179e\"],[0.4444444444444444,\"#bd3786\"],[0.5555555555555556,\"#d8576b\"],[0.6666666666666666,\"#ed7953\"],[0.7777777777777778,\"#fb9f3a\"],[0.8888888888888888,\"#fdca26\"],[1.0,\"#f0f921\"]],\"sequentialminus\":[[0.0,\"#0d0887\"],[0.1111111111111111,\"#46039f\"],[0.2222222222222222,\"#7201a8\"],[0.3333333333333333,\"#9c179e\"],[0.4444444444444444,\"#bd3786\"],[0.5555555555555556,\"#d8576b\"],[0.6666666666666666,\"#ed7953\"],[0.7777777777777778,\"#fb9f3a\"],[0.8888888888888888,\"#fdca26\"],[1.0,\"#f0f921\"]]},\"colorway\":[\"#636efa\",\"#EF553B\",\"#00cc96\",\"#ab63fa\",\"#FFA15A\",\"#19d3f3\",\"#FF6692\",\"#B6E880\",\"#FF97FF\",\"#FECB52\"],\"font\":{\"color\":\"#2a3f5f\"},\"geo\":{\"bgcolor\":\"white\",\"lakecolor\":\"white\",\"landcolor\":\"#E5ECF6\",\"showlakes\":true,\"showland\":true,\"subunitcolor\":\"white\"},\"hoverlabel\":{\"align\":\"left\"},\"hovermode\":\"closest\",\"mapbox\":{\"style\":\"light\"},\"paper_bgcolor\":\"white\",\"plot_bgcolor\":\"#E5ECF6\",\"polar\":{\"angularaxis\":{\"gridcolor\":\"white\",\"linecolor\":\"white\",\"ticks\":\"\"},\"bgcolor\":\"#E5ECF6\",\"radialaxis\":{\"gridcolor\":\"white\",\"linecolor\":\"white\",\"ticks\":\"\"}},\"scene\":{\"xaxis\":{\"backgroundcolor\":\"#E5ECF6\",\"gridcolor\":\"white\",\"gridwidth\":2,\"linecolor\":\"white\",\"showbackground\":true,\"ticks\":\"\",\"zerolinecolor\":\"white\"},\"yaxis\":{\"backgroundcolor\":\"#E5ECF6\",\"gridcolor\":\"white\",\"gridwidth\":2,\"linecolor\":\"white\",\"showbackground\":true,\"ticks\":\"\",\"zerolinecolor\":\"white\"},\"zaxis\":{\"backgroundcolor\":\"#E5ECF6\",\"gridcolor\":\"white\",\"gridwidth\":2,\"linecolor\":\"white\",\"showbackground\":true,\"ticks\":\"\",\"zerolinecolor\":\"white\"}},\"shapedefaults\":{\"line\":{\"color\":\"#2a3f5f\"}},\"ternary\":{\"aaxis\":{\"gridcolor\":\"white\",\"linecolor\":\"white\",\"ticks\":\"\"},\"baxis\":{\"gridcolor\":\"white\",\"linecolor\":\"white\",\"ticks\":\"\"},\"bgcolor\":\"#E5ECF6\",\"caxis\":{\"gridcolor\":\"white\",\"linecolor\":\"white\",\"ticks\":\"\"}},\"title\":{\"x\":0.05},\"xaxis\":{\"automargin\":true,\"gridcolor\":\"white\",\"linecolor\":\"white\",\"ticks\":\"\",\"title\":{\"standoff\":15},\"zerolinecolor\":\"white\",\"zerolinewidth\":2},\"yaxis\":{\"automargin\":true,\"gridcolor\":\"white\",\"linecolor\":\"white\",\"ticks\":\"\",\"title\":{\"standoff\":15},\"zerolinecolor\":\"white\",\"zerolinewidth\":2}}},\"xaxis\":{\"anchor\":\"y\",\"domain\":[0.0,1.0],\"title\":{\"text\":\"Word\"}},\"yaxis\":{\"anchor\":\"x\",\"domain\":[0.0,1.0],\"title\":{\"text\":\"sum of Occurences\"}},\"legend\":{\"tracegroupgap\":0},\"margin\":{\"t\":60},\"barmode\":\"relative\"},                        {\"responsive\": true}                    ).then(function(){\n                            \nvar gd = document.getElementById('8b97498c-282f-48c4-acf3-40f6de5190c0');\nvar x = new MutationObserver(function (mutations, observer) {{\n        var display = window.getComputedStyle(gd).display;\n        if (!display || display === 'none') {{\n            console.log([gd, 'removed!']);\n            Plotly.purge(gd);\n            observer.disconnect();\n        }}\n}});\n\n// Listen for the removal of the full notebook cells\nvar notebookContainer = gd.closest('#notebook-container');\nif (notebookContainer) {{\n    x.observe(notebookContainer, {childList: true});\n}}\n\n// Listen for the clearing of the current output cell\nvar outputEl = gd.closest('.output');\nif (outputEl) {{\n    x.observe(outputEl, {childList: true});\n}}\n\n                        })                };                });            </script>        </div>"
     },
     "metadata": {},
     "output_type": "display_data"
    }
   ],
   "source": [
    "import plotly.express as px\n",
    "fig_title = px.histogram(df_fdist[df_fdist[\"Occurences\"] > 250 ], x ='Word', y=\"Occurences\")\n",
    "fig_title.show()"
   ],
   "metadata": {
    "collapsed": false,
    "pycharm": {
     "name": "#%%\n"
    }
   }
  }
 ],
 "metadata": {
  "kernelspec": {
   "display_name": "Python 3 (ipykernel)",
   "language": "python",
   "name": "python3"
  },
  "language_info": {
   "codemirror_mode": {
    "name": "ipython",
    "version": 3
   },
   "file_extension": ".py",
   "mimetype": "text/x-python",
   "name": "python",
   "nbconvert_exporter": "python",
   "pygments_lexer": "ipython3",
   "version": "3.9.6"
  }
 },
 "nbformat": 4,
 "nbformat_minor": 1
}